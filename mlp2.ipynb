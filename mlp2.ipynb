{
 "cells": [
  {
   "cell_type": "code",
   "execution_count": 194,
   "metadata": {},
   "outputs": [],
   "source": [
    "import torch\n",
    "import torch.nn.functional as F\n",
    "import matplotlib.pyplot as plt\n",
    "%matplotlib inline"
   ]
  },
  {
   "cell_type": "code",
   "execution_count": 195,
   "metadata": {},
   "outputs": [
    {
     "name": "stdout",
     "output_type": "stream",
     "text": [
      "Total amount of words: 32033\n"
     ]
    }
   ],
   "source": [
    "# Read in all the words.\n",
    "words = open('names.txt', 'r').read().splitlines()\n",
    "print(f\"Total amount of words: {len(words)}\")"
   ]
  },
  {
   "cell_type": "code",
   "execution_count": 196,
   "metadata": {},
   "outputs": [
    {
     "name": "stdout",
     "output_type": "stream",
     "text": [
      "Vocabulary size: 27\n"
     ]
    }
   ],
   "source": [
    "# Build the vocabulary of characters and mappings to/from integers.\n",
    "chars = sorted(list(set(''.join(words))))\n",
    "stoi = {ch: ix + 1 for ix, ch in enumerate(chars)}\n",
    "stoi['.'] = 0\n",
    "itos = {ix: ch for ch, ix in stoi.items()}\n",
    "vocab_size = len(itos)\n",
    "print(f\"Vocabulary size: {vocab_size}\")"
   ]
  },
  {
   "cell_type": "code",
   "execution_count": 197,
   "metadata": {},
   "outputs": [],
   "source": [
    "def build_dataset(words: list[str], context_size: int = 3, logging: bool = False) -> tuple[torch.tensor]:\n",
    "    \"\"\"\n",
    "    Given an list of string words, creates input and output targets.\n",
    "    Args:\n",
    "        words(list[int], shape=[n]): List of all words to sample examples from.\n",
    "        context_size(int)          : How many characters are considered for prediction.\n",
    "        logging(bool)              : Whether to print builded examples or not.\n",
    "    Returns:\n",
    "        X(torch.tensor, shape=[m, contex size]): Input tensor, where m is number of examples.\n",
    "        Y(torch.tensor, shape=[m])             : Target tensor, where m is number of examples.\n",
    "    \"\"\"\n",
    "    X, Y = [], []\n",
    "    for word in words:\n",
    "        context = [0] * context_size\n",
    "        for ch in word + '.':\n",
    "            X.append(context)\n",
    "            Y.append(stoi[ch])\n",
    "            context = context[1:] + [stoi[ch]]\n",
    "    X, Y = torch.tensor(X), torch.tensor(Y)\n",
    "    if logging:\n",
    "        print(f'Input: {X.shape}, Output: {Y.shape}')\n",
    "    return X, Y"
   ]
  },
  {
   "cell_type": "code",
   "execution_count": 198,
   "metadata": {},
   "outputs": [
    {
     "name": "stdout",
     "output_type": "stream",
     "text": [
      "Input: torch.Size([182597, 3]), Output: torch.Size([182597])\n",
      "Input: torch.Size([22761, 3]), Output: torch.Size([22761])\n",
      "Input: torch.Size([22788, 3]), Output: torch.Size([22788])\n"
     ]
    }
   ],
   "source": [
    "import random\n",
    "random.seed(13)\n",
    "random.shuffle(words)\n",
    "n1 = int(len(words) * 0.8)\n",
    "n2 = int(len(words) * 0.9)\n",
    "\n",
    "\n",
    "block_size = 3  # how many charecters do we take to predict the next one?\n",
    "Xtr, Ytr = build_dataset(words[:n1], block_size, True)     # 80%\n",
    "Xdev, Ydev = build_dataset(words[n1:n2], block_size, True) # 10%\n",
    "Xte, Yte = build_dataset(words[n2:], block_size, True)     # 10%"
   ]
  },
  {
   "cell_type": "code",
   "execution_count": 203,
   "metadata": {},
   "outputs": [
    {
     "name": "stdout",
     "output_type": "stream",
     "text": [
      "Total parametrs: 12097\n"
     ]
    }
   ],
   "source": [
    "n_emb = 10  # the dimensionality of the character embedding vectors\n",
    "n_hidden = 200  # the number of neurons in the hidden layer of the MLP\n",
    "\n",
    "g = torch.Generator().manual_seed(13)\n",
    "C = torch.randn(size=[vocab_size, n_emb],   generator=g)  #      gain          fan_in\n",
    "W1 = torch.randn([n_emb * block_size, n_hidden], generator=g) * (5/3) / (n_emb * block_size)**0.5\n",
    "#b1 = torch.randn([n_hidden],                     generator=g) * 0.01\n",
    "W2 = torch.randn([n_hidden, vocab_size],         generator=g) * 0.01\n",
    "b2 = torch.randn([vocab_size],                   generator=g) * 0.0\n",
    "\n",
    "# BatchNorm parameters\n",
    "bngain = torch.ones((1, n_hidden))\n",
    "bnbias = torch.zeros((1, n_hidden))\n",
    "bnmean_running = torch.zeros((1, n_hidden))\n",
    "bnstd_running = torch.ones((1, n_hidden))\n",
    "\n",
    "parameters = [C, W1, W2, b2, bngain, bnbias ]\n",
    "print(\"Total parametrs:\", sum(p.nelement() for p in parameters))  # number of parameters in total\n",
    "for p in parameters:\n",
    "    p.requires_grad = True"
   ]
  },
  {
   "cell_type": "code",
   "execution_count": 204,
   "metadata": {},
   "outputs": [
    {
     "name": "stdout",
     "output_type": "stream",
     "text": [
      "      0/ 200000: 3.3077\n",
      "  10000/ 200000: 2.2307\n",
      "  20000/ 200000: 2.0346\n",
      "  30000/ 200000: 2.1815\n",
      "  40000/ 200000: 2.1683\n",
      "  50000/ 200000: 2.3454\n",
      "  60000/ 200000: 2.1588\n",
      "  70000/ 200000: 2.5568\n",
      "  80000/ 200000: 1.8971\n",
      "  90000/ 200000: 2.2496\n",
      " 100000/ 200000: 2.0313\n",
      " 110000/ 200000: 1.9457\n",
      " 120000/ 200000: 2.1907\n",
      " 130000/ 200000: 2.0456\n",
      " 140000/ 200000: 2.0803\n",
      " 150000/ 200000: 2.3353\n",
      " 160000/ 200000: 2.0182\n",
      " 170000/ 200000: 2.2302\n",
      " 180000/ 200000: 2.1999\n",
      " 190000/ 200000: 2.4662\n"
     ]
    }
   ],
   "source": [
    "max_steps = 200000\n",
    "batch_size = 32\n",
    "lossi = []\n",
    "\n",
    "for i in range(max_steps):\n",
    "    \n",
    "    \"\"\"Mini-batch construct\"\"\"\n",
    "    ix = torch.randint(0, Xtr.shape[0], (batch_size,))\n",
    "    Xb, Yb = Xtr[ix], Ytr[ix]  # batch X, Y\n",
    "    \n",
    "    \"\"\"Forward pass\"\"\"\n",
    "    emb = C[Xb]  # embed the characters into vectors\n",
    "    embcat = emb.view(emb.shape[0], -1) # concatenate vectors\n",
    "    \n",
    "    \"\"\"Linear Layer\"\"\"\n",
    "    hpreact = embcat @ W1  # + b1  # hidden layer pre-actvation\n",
    "    \n",
    "    \"\"\"BatchNorm Layer\"\"\"\n",
    "    # -----------------------------------------------------------\n",
    "    bnmeani = hpreact.mean(0, keepdim=True)\n",
    "    bnstdi = hpreact.std(0, keepdim=True)\n",
    "    hpreact = bngain * (hpreact - bnmeani) / bnstdi  + bnbias\n",
    "    with torch.no_grad():\n",
    "        bnmean_running = bnmean_running * 0.999 + bnmeani * 0.001\n",
    "        bnstd_running = bnstd_running * 0.999 + bnstdi * 0.001\n",
    "    # -----------------------------------------------------------\n",
    "\n",
    "    \"\"\"Non-linearity\"\"\"\n",
    "    h = torch.tanh(hpreact) # hidden layer\n",
    "    logits = h @ W2 + b2  # output layer\n",
    "    loss = F.cross_entropy(logits, Yb)  # loss function\n",
    "    \n",
    "    \"\"\"Backward pass\"\"\"\n",
    "    for p in parameters:\n",
    "        p.grad = None\n",
    "    loss.backward()\n",
    "    \n",
    "    \"\"\"Update\"\"\"\n",
    "    lr = 0.1 if i < 100000 else 0.01  # learning step decay\n",
    "    for p in parameters:\n",
    "        p.data += -lr * p.grad\n",
    "    \n",
    "    \"\"\"Track stats\"\"\"\n",
    "    if i % 10000 == 0:\n",
    "        print(f\"{i:7d}/{max_steps:7d}: {loss.item():.4f}\")\n",
    "    lossi.append(loss.log10().item())"
   ]
  },
  {
   "cell_type": "code",
   "execution_count": 205,
   "metadata": {},
   "outputs": [
    {
     "data": {
      "text/plain": [
       "<function matplotlib.pyplot.show(close=None, block=None)>"
      ]
     },
     "execution_count": 205,
     "metadata": {},
     "output_type": "execute_result"
    },
    {
     "data": {
      "image/png": "[encoded data removed]",
      "text/plain": [
       "<Figure size 640x480 with 1 Axes>"
      ]
     },
     "metadata": {},
     "output_type": "display_data"
    }
   ],
   "source": [
    "#  Look, hockey-stick loss fall is gone. No overconfidence - no wasteful training.\n",
    "plt.plot([i for i in range(max_steps)], lossi)\n",
    "plt.show"
   ]
  },
  {
   "cell_type": "code",
   "execution_count": 206,
   "metadata": {},
   "outputs": [],
   "source": [
    "# Now here's a weird problem. Remember we've turned forward pass in a function of a examples in a given batch?\n",
    "# After training there's this common technique, that you deploy your system somehow and use it.\n",
    "# But how we evaluate a single examle, when the whole batch of them expected?\n",
    "\n",
    "with torch.no_grad():\n",
    "    # Pass the training set through\n",
    "    emb = C[Xtr]\n",
    "    embcat = emb.view(emb.shape[0], -1)\n",
    "    hpreact = embcat @ W1# + b1\n",
    "    # Measure mean/std over the entire training set (get constant values for single example evaluation)\n",
    "    bnmean = hpreact.mean(0, keepdim=True)\n",
    "    bnstd = hpreact.std(0, keepdim=True)\n",
    "\n",
    "# Well, that thing works just fine and we could leave it as that, but in reality everyone's lazy and reject second stage\n",
    "# That being taken as a fact, we'll initialize running mean and std as zeros and ones accordingly\n",
    "# All that's left is to soft-update those values    "
   ]
  },
  {
   "cell_type": "code",
   "execution_count": 207,
   "metadata": {},
   "outputs": [],
   "source": [
    "@torch.no_grad()  # this decorator disables gradient tracking\n",
    "def split_loss(split: str) -> None:\n",
    "    \"\"\"\n",
    "    Given a split name, evaluates it and prints the result.\n",
    "    Args:\n",
    "        split(str): name of the dataset split you'd like to evaluate.\n",
    "    \"\"\"\n",
    "    x, y = {\n",
    "        'train': (Xtr, Ytr),\n",
    "        'dev': (Xdev, Ydev),\n",
    "        'test': (Xte, Yte)\n",
    "    }[split]\n",
    "\n",
    "    emb = C[x] \n",
    "    embcat = emb.view(emb.shape[0], -1) \n",
    "    hpreact = embcat @ W1# + b1\n",
    "    hpreact = bngain * (hpreact - bnmean_running) / bnstd_running  + bnbias  # batch-norm\n",
    "    h = torch.tanh(hpreact)\n",
    "    logits = h @ W2 + b2\n",
    "    loss = F.cross_entropy(logits, y)\n",
    "    print(f'{split}: {loss.item()}')"
   ]
  },
  {
   "cell_type": "code",
   "execution_count": 208,
   "metadata": {},
   "outputs": [
    {
     "name": "stdout",
     "output_type": "stream",
     "text": [
      "train: 2.066448450088501\n",
      "test: 2.1092488765716553\n"
     ]
    }
   ],
   "source": [
    "split_loss(\"train\")\n",
    "split_loss(\"test\")"
   ]
  },
  {
   "cell_type": "code",
   "execution_count": 209,
   "metadata": {},
   "outputs": [
    {
     "name": "stdout",
     "output_type": "stream",
     "text": [
      "jamerremjlaya.\n",
      "mivia.\n",
      "mabelle.\n",
      "hazanah.\n",
      "hawan.\n",
      "ridy.\n",
      "elivyous.\n",
      "meka.\n",
      "jonashn.\n",
      "laure.\n",
      "feralyn.\n",
      "shawsitan.\n",
      "zyre.\n",
      "fladella.\n",
      "jodumanoila.\n",
      "zelin.\n",
      "lae.\n",
      "hair.\n",
      "egan.\n",
      "sevadancetilla.\n"
     ]
    }
   ],
   "source": [
    "# Sample from the model.\n",
    "g = torch.Generator().manual_seed(13 + 10)\n",
    "for _ in range (20):\n",
    "    out = []\n",
    "    context = [0] * block_size # initialize with all ...\n",
    "    while True:\n",
    "        # forward pass the neural net\n",
    "        emb = C[torch.tensor([context])] # (1, block_size, n_embd)\n",
    "        hpreact = emb.view(1, -1) @ W1\n",
    "        hpreact = bngain * (hpreact - bnmean_running) / bnstd_running + bnbias\n",
    "        h = torch.tanh(hpreact)\n",
    "        logits = h @ W2 + b2\n",
    "        probs = F.softmax(logits, dim=1)\n",
    "        # sample from the distribution\n",
    "        ix = torch.multinomial(probs, num_samples=1, generator=g).item()\n",
    "        # shift the context window and track the samples\n",
    "        context = context[1:] + [ix]\n",
    "        out.append(ix)\n",
    "        # if we sample the special '' token, break\n",
    "        if ix == 0:\n",
    "            break\n",
    "    print(\"\".join(itos[i] for i in out)) # decode and print the generated word"
   ]
  },
  {
   "cell_type": "code",
   "execution_count": null,
   "metadata": {},
   "outputs": [],
   "source": []
  }
 ],
 "metadata": {
  "kernelspec": {
   "display_name": "makemore_env",
   "language": "python",
   "name": "python3"
  },
  "language_info": {
   "codemirror_mode": {
    "name": "ipython",
    "version": 3
   },
   "file_extension": ".py",
   "mimetype": "text/x-python",
   "name": "python",
   "nbconvert_exporter": "python",
   "pygments_lexer": "ipython3",
   "version": "3.9.19"
  }
 },
 "nbformat": 4,
 "nbformat_minor": 2
}
