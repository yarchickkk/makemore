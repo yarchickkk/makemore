{
 "cells": [
  {
   "cell_type": "code",
   "execution_count": 2,
   "metadata": {},
   "outputs": [],
   "source": [
    "import torch\n",
    "import torch.nn.functional as F\n",
    "import matplotlib.pyplot as plt\n",
    "%matplotlib inline"
   ]
  },
  {
   "cell_type": "code",
   "execution_count": 3,
   "metadata": {},
   "outputs": [
    {
     "name": "stdout",
     "output_type": "stream",
     "text": [
      "Total amount of words: 32033\n"
     ]
    }
   ],
   "source": [
    "# Read in all the words.\n",
    "words = open('names.txt', 'r').read().splitlines()\n",
    "print(f\"Total amount of words: {len(words)}\")"
   ]
  },
  {
   "cell_type": "code",
   "execution_count": 4,
   "metadata": {},
   "outputs": [
    {
     "name": "stdout",
     "output_type": "stream",
     "text": [
      "Vocabulary size: 27\n"
     ]
    }
   ],
   "source": [
    "# Build the vocabulary of characters and mappings to/from integers.\n",
    "chars = sorted(list(set(''.join(words))))\n",
    "stoi = {ch: ix + 1 for ix, ch in enumerate(chars)}\n",
    "stoi['.'] = 0\n",
    "itos = {ix: ch for ch, ix in stoi.items()}\n",
    "vocabulary_size = len(itos)\n",
    "print(f\"Vocabulary size: {vocabulary_size}\")"
   ]
  },
  {
   "cell_type": "code",
   "execution_count": 5,
   "metadata": {},
   "outputs": [],
   "source": [
    "def build_dataset(words: list[str], context_size: int = 3, logging: bool = False) -> tuple[torch.tensor]:\n",
    "    \"\"\"\n",
    "    Given an list of string words, creates input and output targets.\n",
    "    Args:\n",
    "        words(list[int], shape=[n]): List of all words to sample examples from.\n",
    "        context_size(int)          : How many characters are considered for prediction.\n",
    "        logging(bool)              : Whether to print builded examples or not.\n",
    "    Returns:\n",
    "        X(torch.tensor, shape=[m, contex size]): Input tensor, where m is number of examples.\n",
    "        Y(torch.tensor, shape=[m])             : Target tensor, where m is number of examples.\n",
    "    \"\"\"\n",
    "    X, Y = [], []\n",
    "    for word in words:\n",
    "        context = [0] * context_size\n",
    "        for ch in word + '.':\n",
    "            X.append(context)\n",
    "            Y.append(stoi[ch])\n",
    "            context = context[1:] + [stoi[ch]]\n",
    "    X, Y = torch.tensor(X), torch.tensor(Y)\n",
    "    if logging:\n",
    "        print(f'Input: {X.shape}, Output: {Y.shape}')\n",
    "    return X, Y"
   ]
  },
  {
   "cell_type": "code",
   "execution_count": 6,
   "metadata": {},
   "outputs": [],
   "source": [
    "from typing import Any\n",
    "\n",
    "\n",
    "class Linear():\n",
    "    def __init__(self, fan_in: int, fan_out: int, bias: bool = True) -> None:\n",
    "        self.weight = torch.randn((fan_in, fan_out)) / fan_in**0.5  # kaiming init\n",
    "        self.bias = torch.zeros(fan_out) if bias else None\n",
    "\n",
    "    def __call__(self, x: torch.tensor) -> torch.tensor:\n",
    "        self.out = x @ self.weight\n",
    "        if self.bias is not None:\n",
    "            self.out += self.bias      \n",
    "        return self.out\n",
    "\n",
    "    def parameters(self) -> list:\n",
    "        return [self.weight] + ([self.bias] if self.bias is not None else [])\n",
    "    \n",
    "\n",
    "class BatchNorm1d():\n",
    "    def __init__(self, dim: int, eps: float = 1e-5, momentum: float = 0.1) -> None:\n",
    "        self.eps = eps\n",
    "        self.momentum = momentum\n",
    "        self.training = True\n",
    "        # parameters (trained with backprop)\n",
    "        self.gamma = torch.ones(dim)\n",
    "        self.beta = torch.zeros(dim)\n",
    "        # buffers (trained wdith a running 'momentum update')\n",
    "        self.running_mean = torch.zeros(dim)\n",
    "        self.running_var = torch.ones(dim)\n",
    "\n",
    "    def __call__(self, x: torch.tensor) -> torch.tensor:\n",
    "        if self.training:\n",
    "            # check input's dimensionality\n",
    "            if x.dim() == 2:\n",
    "                dim = 0\n",
    "            elif x.dim() == 3:\n",
    "                dim = (0, 1)\n",
    "            else:\n",
    "                raise Exception(f'Able to process 2D or 3D tensors only, received {x.dim()}D tensor')\n",
    "            xmean = x.mean(dim, keepdim=True)\n",
    "            xvar = x.var(dim, keepdim=True)\n",
    "        else:\n",
    "            xmean = self.running_mean\n",
    "            xvar = self.running_var\n",
    "        xhat = (x - xmean) / torch.sqrt(xvar + self.eps)\n",
    "        self.out = self.gamma * xhat + self.beta\n",
    "        # update the buffers\n",
    "        if self.training:\n",
    "            with torch.no_grad():\n",
    "                self.running_mean = self.running_mean * (1.0 - self.momentum) + xmean * self.momentum\n",
    "                self.running_var = self.running_var * (1.0 - self.momentum) + xvar * self.momentum\n",
    "        return self.out\n",
    "    \n",
    "    def parameters(self):\n",
    "        return [self.gamma, self.beta]\n",
    "\n",
    "\n",
    "class Tanh():\n",
    "    def __call__(self, x: torch.tensor) -> torch.tensor:\n",
    "        self.out = torch.tanh(x)\n",
    "        return self.out\n",
    "    \n",
    "    def parameters(self):\n",
    "        return []\n",
    "    \n",
    "\n",
    "class Embedding():\n",
    "    def __init__(self, num_embeddings: int, embedding_dim: int) -> None:\n",
    "        self.weight = torch.randn((num_embeddings, embedding_dim))\n",
    "\n",
    "    def __call__(self, IX: torch.tensor) -> torch.tensor:\n",
    "        self.out = self.weight[IX]\n",
    "        return self.out\n",
    "    \n",
    "    def parameters(self) -> list[torch.tensor]:\n",
    "        return [self.weight]\n",
    "    \n",
    "\n",
    "class FlattenConsecutive():\n",
    "    def __init__(self, n: int) -> None:\n",
    "        self.n = n  # number of consecutice elements\n",
    "\n",
    "    def __call__(self, x: torch.tensor) -> torch.tensor:\n",
    "        B, T, C = x.shape\n",
    "        x = x.view(B, T // self.n, C * self.n)\n",
    "        if x.shape[1] == 1:\n",
    "            x = x.squeeze(1)\n",
    "        self.out = x\n",
    "        return self.out\n",
    "    \n",
    "    def parameters(self) -> list:\n",
    "        return []\n",
    "    \n",
    "\n",
    "class Sequential():\n",
    "    def __init__(self, layers: list) -> None:\n",
    "        self.layers = layers\n",
    "    \n",
    "    def __call__(self, x: Any) -> Any:\n",
    "        for layer in self.layers:\n",
    "            x = layer(x)\n",
    "        self.out = x\n",
    "        return self.out\n",
    "    \n",
    "    def parameters(self) -> list:\n",
    "        return [p for layer in self.layers for p in layer.parameters()]"
   ]
  },
  {
   "cell_type": "code",
   "execution_count": 7,
   "metadata": {},
   "outputs": [],
   "source": [
    "torch.manual_seed(13);"
   ]
  },
  {
   "cell_type": "code",
   "execution_count": 8,
   "metadata": {},
   "outputs": [
    {
     "name": "stdout",
     "output_type": "stream",
     "text": [
      "Input: torch.Size([182597, 8]), Output: torch.Size([182597])\n",
      "Input: torch.Size([22761, 8]), Output: torch.Size([22761])\n",
      "Input: torch.Size([22788, 8]), Output: torch.Size([22788])\n"
     ]
    }
   ],
   "source": [
    "# Split the dataset on train, development and test set.\n",
    "import random\n",
    "random.seed(13)\n",
    "random.shuffle(words)\n",
    "n1 = int(len(words) * 0.8)\n",
    "n2 = int(len(words) * 0.9)\n",
    "\n",
    "\n",
    "block_size = 8  # how many charecters do we take to predict the next one?\n",
    "Xtrain, Ytrain = build_dataset(words[:n1], block_size, True)     # 80%\n",
    "Xdevelop, Ydevelop = build_dataset(words[n1:n2], block_size, True) # 10%\n",
    "Xtest, Ytest = build_dataset(words[n2:], block_size, True)     # 10%"
   ]
  },
  {
   "cell_type": "code",
   "execution_count": 9,
   "metadata": {},
   "outputs": [],
   "source": [
    "@torch.no_grad()  # this decorator disables gradient tracking\n",
    "def split_loss(split: str, evaluated_model: Sequential) -> None:\n",
    "    \"\"\"\n",
    "    Given a split name, evaluates it and prints the result.\n",
    "    Args:\n",
    "        split(str): name of the dataset split you'd like to evaluate.\n",
    "    \"\"\"\n",
    "    x, y = {  # Sets are global!\n",
    "        'train': (Xtrain, Ytrain),\n",
    "        'dev': (Xdevelop, Ydevelop),\n",
    "        'test': (Xtest, Ytest)\n",
    "    }[split]\n",
    "    \n",
    "    # swith to evaluation mode\n",
    "    for layer in evaluated_model.layers:\n",
    "        layer.training = False\n",
    "\n",
    "    logits =  evaluated_model(x)\n",
    "    loss = F.cross_entropy(logits, y)\n",
    "\n",
    "    # switch back to training mode\n",
    "    for layer in evaluated_model.layers:\n",
    "        layer.training = True\n",
    "    \n",
    "    return loss.item()"
   ]
  },
  {
   "cell_type": "code",
   "execution_count": 81,
   "metadata": {},
   "outputs": [],
   "source": [
    "def train_model(\n",
    "        n_embd: int, n_hidden: int, vocab_size: int,  # model's paramerers\n",
    "        max_steps: int, batch_size: int, lr: float,   # training settings\n",
    "        Xtr: torch.tensor, Ytr: torch.tensor          # training and target sets\n",
    ") -> list:\n",
    "    \"\"\"\n",
    "    Inintializes the models using given parameters and trains it with given settings on given sets.\n",
    "    \"\"\"\n",
    "\n",
    "    model = Sequential([\n",
    "        Embedding(vocab_size, n_embd), \n",
    "        FlattenConsecutive(2), Linear(n_embd * 2, n_hidden, bias=False), BatchNorm1d(n_hidden), Tanh(),\n",
    "        FlattenConsecutive(2), Linear(n_hidden * 2, n_hidden, bias=False), BatchNorm1d(n_hidden), Tanh(),\n",
    "        FlattenConsecutive(2), Linear(n_hidden * 2, n_hidden, bias=False), BatchNorm1d(n_hidden), Tanh(),\n",
    "        Linear(n_hidden, vocab_size)\n",
    "    ])\n",
    "\n",
    "    with torch.no_grad():\n",
    "        model.layers[-1].weight *= 0.1  # make last layer less confident\n",
    "    parameters = model.parameters()\n",
    "    print(sum(p.nelement() for p in parameters))\n",
    "    for p in parameters:\n",
    "        p.requires_grad = True\n",
    "    \n",
    "    lossi = []\n",
    "    for i in range(max_steps):\n",
    "        \"\"\"Mini-batch construct\"\"\"\n",
    "        ix = torch.randint(0, Xtr.shape[0], (batch_size,))\n",
    "        Xb, Yb = Xtr[ix], Ytr[ix]  # batch X, Y\n",
    "        \n",
    "        \"\"\"Forward pass\"\"\"\n",
    "        logits = model(Xb)\n",
    "        loss = F.cross_entropy(logits, Yb)  # loss function\n",
    "        \n",
    "        \"\"\"Backward pass\"\"\"\n",
    "        for p in parameters:\n",
    "            p.grad = None\n",
    "        loss.backward()\n",
    "        \n",
    "        \"\"\"Update\"\"\"\n",
    "        lr = 1.0 if i < 100000 else 0.01  # learning step decay\n",
    "        for p in parameters:\n",
    "            p.data += -lr * p.grad\n",
    "        \n",
    "        \"\"\"Track stats\"\"\"\n",
    "        if i % 1000 == 0:\n",
    "            print(f\"{i:7d}/{max_steps:7d}: {loss.item():.4f}\")\n",
    "        lossi.append(loss.log10().item())\n",
    "\n",
    "    \"\"\"Plotting\"\"\"\n",
    "    # plt.plot(torch.tensor(lossi).view(-1, 1000).mean(1))\n",
    "    train_loss = split_loss('train', model)\n",
    "    deevlop_loss = split_loss('dev', model)\n",
    "    return [train_loss, deevlop_loss, lossi]"
   ]
  },
  {
   "cell_type": "code",
   "execution_count": 82,
   "metadata": {},
   "outputs": [],
   "source": [
    "embedding_dim = 10  # the dimensionality of the character embedding vectors\n",
    "hidden_neurons = 50  # the number of neurons in the hidden layer of the MLP\n",
    "learning_rate = 0.7327\n",
    "iterations = 10000\n",
    "minibatch_size = 256"
   ]
  },
  {
   "cell_type": "code",
   "execution_count": null,
   "metadata": {},
   "outputs": [],
   "source": [
    "# learning rate = 0.7327\n",
    "trains, develops = [], []\n",
    "lrs = torch.linspace(0.732, 0.733, 5).tolist()\n",
    "for i in range(len(lrs)):\n",
    "    learning_rate = lrs[i]\n",
    "    losses = train_model(\n",
    "        embedding_dim,\n",
    "        hidden_neurons,\n",
    "        vocabulary_size,\n",
    "        iterations,\n",
    "        minibatch_size,\n",
    "        learning_rate,\n",
    "        Xtrain, Ytrain\n",
    "    )\n",
    "    trains.append(losses[0])\n",
    "    develops.append(losses[1])\n",
    "\n",
    "    print('-'*40)\n",
    "    print(f'{learning_rate = }')\n",
    "    print(' Train | Develop')\n",
    "    print(losses)\n",
    "    print('-'*40)\n",
    "\n",
    "plt.plot(lrs, trains)\n",
    "plt.plot(lrs, develops)"
   ]
  },
  {
   "cell_type": "code",
   "execution_count": null,
   "metadata": {},
   "outputs": [],
   "source": [
    "# Bigger size is better, 256 seemed best on 8 context length\n",
    "trains, develops = [], []\n",
    "batch_sizes = [256, 512]\n",
    "for i in range(len(batch_sizes)):\n",
    "    minibatch_size = batch_sizes[i]\n",
    "    losses = train_model(\n",
    "        embedding_dim,\n",
    "        hidden_neurons,\n",
    "        vocabulary_size,\n",
    "        iterations,\n",
    "        minibatch_size,\n",
    "        learning_rate,\n",
    "        Xtrain, Ytrain\n",
    "    )\n",
    "    trains.append(losses[0])\n",
    "    develops.append(losses[1])\n",
    "\n",
    "    print('-'*40)\n",
    "    print(f'{minibatch_size = }')\n",
    "    print(' Train | Develop')\n",
    "    print(losses)\n",
    "    print('-'*40)\n",
    "\n",
    "plt.plot(batch_sizes, trains)\n",
    "plt.plot(batch_sizes, develops)"
   ]
  },
  {
   "cell_type": "code",
   "execution_count": 39,
   "metadata": {},
   "outputs": [
    {
     "name": "stdout",
     "output_type": "stream",
     "text": [
      "21419\n",
      "      0/   5000: 3.2892\n",
      "   1000/   5000: 2.1405\n",
      "   2000/   5000: 2.5291\n",
      "   3000/   5000: 2.5391\n",
      "   4000/   5000: 2.6818\n",
      "----------------------------------------\n",
      "embedding_dim = 4\n",
      " Train | Develop\n",
      "[2.2949652671813965, 2.310877561569214]\n",
      "----------------------------------------\n",
      "22071\n",
      "      0/   5000: 3.3083\n",
      "   1000/   5000: 2.3823\n",
      "   2000/   5000: 2.1045\n",
      "   3000/   5000: 2.2277\n",
      "   4000/   5000: 2.3131\n",
      "----------------------------------------\n",
      "embedding_dim = 8\n",
      " Train | Develop\n",
      "[2.3201375007629395, 2.341668128967285]\n",
      "----------------------------------------\n",
      "22723\n",
      "      0/   5000: 3.3071\n",
      "   1000/   5000: 2.4262\n",
      "   2000/   5000: 2.1094\n",
      "   3000/   5000: 2.3081\n",
      "   4000/   5000: 2.6915\n",
      "----------------------------------------\n",
      "embedding_dim = 12\n",
      " Train | Develop\n",
      "[2.2364723682403564, 2.259121894836426]\n",
      "----------------------------------------\n",
      "23375\n",
      "      0/   5000: 3.2848\n",
      "   1000/   5000: 2.5603\n",
      "   2000/   5000: 1.9599\n",
      "   3000/   5000: 2.3001\n",
      "   4000/   5000: 2.7498\n",
      "----------------------------------------\n",
      "embedding_dim = 16\n",
      " Train | Develop\n",
      "[2.2457094192504883, 2.2692959308624268]\n",
      "----------------------------------------\n",
      "24027\n",
      "      0/   5000: 3.2908\n",
      "   1000/   5000: 2.1985\n",
      "   2000/   5000: 2.5896\n",
      "   3000/   5000: 1.6852\n",
      "   4000/   5000: 2.1718\n",
      "----------------------------------------\n",
      "embedding_dim = 20\n",
      " Train | Develop\n",
      "[2.2349894046783447, 2.25561261177063]\n",
      "----------------------------------------\n",
      "24679\n",
      "      0/   5000: 3.3074\n",
      "   1000/   5000: 2.2552\n",
      "   2000/   5000: 2.3790\n",
      "   3000/   5000: 2.5482\n",
      "   4000/   5000: 1.8527\n",
      "----------------------------------------\n",
      "embedding_dim = 24\n",
      " Train | Develop\n",
      "[2.2330734729766846, 2.2502355575561523]\n",
      "----------------------------------------\n",
      "25331\n",
      "      0/   5000: 3.2971\n",
      "   1000/   5000: 1.8234\n",
      "   2000/   5000: 1.9715\n",
      "   3000/   5000: 1.9324\n",
      "   4000/   5000: 1.9763\n",
      "----------------------------------------\n",
      "embedding_dim = 28\n",
      " Train | Develop\n",
      "[2.237778663635254, 2.261233329772949]\n",
      "----------------------------------------\n"
     ]
    },
    {
     "data": {
      "text/plain": [
       "[<matplotlib.lines.Line2D at 0x302a4b7c0>]"
      ]
     },
     "execution_count": 39,
     "metadata": {},
     "output_type": "execute_result"
    },
    {
     "data": {
      "image/png": "[encoded data removed]",
      "text/plain": [
       "<Figure size 640x480 with 1 Axes>"
      ]
     },
     "metadata": {},
     "output_type": "display_data"
    }
   ],
   "source": [
    "# 10, 11 or 27 are all good, I'll use 10 for now\n",
    "trains, develops = [], []\n",
    "embdims = [4, 8, 12, 16, 20, 24, 28]\n",
    "for i in range(len(embdims)):\n",
    "    embedding_dim = embdims[i]\n",
    "    losses = train_model(\n",
    "        embedding_dim,\n",
    "        hidden_neurons,\n",
    "        vocabulary_size,\n",
    "        iterations,\n",
    "        minibatch_size,\n",
    "        learning_rate,\n",
    "        Xtrain, Ytrain\n",
    "    )\n",
    "    trains.append(losses[0])\n",
    "    develops.append(losses[1])\n",
    "\n",
    "    print('-'*40)\n",
    "    print(f'{embedding_dim = }')\n",
    "    print(' Train | Develop')\n",
    "    print(losses)\n",
    "    print('-'*40)\n",
    "\n",
    "plt.plot(embdims, trains)\n",
    "plt.plot(embdims, develops)"
   ]
  },
  {
   "cell_type": "code",
   "execution_count": 44,
   "metadata": {},
   "outputs": [
    {
     "name": "stdout",
     "output_type": "stream",
     "text": [
      "10782\n",
      "      0/   5000: 3.2987\n",
      "   1000/   5000: 2.1335\n",
      "   2000/   5000: 2.1300\n",
      "   3000/   5000: 1.9120\n",
      "   4000/   5000: 2.3214\n",
      "----------------------------------------\n",
      "hidden_neurons = 45\n",
      " Train | Develop\n",
      "[2.2551393508911133, 2.2709007263183594]\n",
      "----------------------------------------\n",
      "11624\n",
      "      0/   5000: 3.3192\n",
      "   1000/   5000: 2.5406\n",
      "   2000/   5000: 2.5059\n",
      "   3000/   5000: 2.8639\n",
      "   4000/   5000: 1.8649\n",
      "----------------------------------------\n",
      "hidden_neurons = 47\n",
      " Train | Develop\n",
      "[2.251237630844116, 2.2756199836730957]\n",
      "----------------------------------------\n",
      "12947\n",
      "      0/   5000: 3.2989\n",
      "   1000/   5000: 2.5629\n",
      "   2000/   5000: 2.5851\n",
      "   3000/   5000: 2.1109\n",
      "   4000/   5000: 2.2864\n",
      "----------------------------------------\n",
      "hidden_neurons = 50\n",
      " Train | Develop\n",
      "[2.2261550426483154, 2.2459065914154053]\n",
      "----------------------------------------\n",
      "13869\n",
      "      0/   5000: 3.2996\n",
      "   1000/   5000: 2.1582\n",
      "   2000/   5000: 2.4378\n",
      "   3000/   5000: 2.1884\n",
      "   4000/   5000: 2.0483\n",
      "----------------------------------------\n",
      "hidden_neurons = 52\n",
      " Train | Develop\n",
      "[2.258826971054077, 2.277839422225952]\n",
      "----------------------------------------\n",
      "15312\n",
      "      0/   5000: 3.2977\n",
      "   1000/   5000: 2.2344\n",
      "   2000/   5000: 2.2359\n",
      "   3000/   5000: 2.3420\n",
      "   4000/   5000: 2.1281\n",
      "----------------------------------------\n",
      "hidden_neurons = 55\n",
      " Train | Develop\n",
      "[2.2861483097076416, 2.3082115650177]\n",
      "----------------------------------------\n"
     ]
    },
    {
     "data": {
      "text/plain": [
       "[<matplotlib.lines.Line2D at 0x3054b6ca0>]"
      ]
     },
     "execution_count": 44,
     "metadata": {},
     "output_type": "execute_result"
    },
    {
     "data": {
      "image/png": "[encoded data removed]",
      "text/plain": [
       "<Figure size 640x480 with 1 Axes>"
      ]
     },
     "metadata": {},
     "output_type": "display_data"
    }
   ],
   "source": [
    "# 50 is good\n",
    "trains, develops = [], []\n",
    "neurons_amounts = [45, 47, 50, 52, 55]\n",
    "for i in range(len(neurons_amounts)):\n",
    "    hidden_neurons = neurons_amounts[i]\n",
    "    losses = train_model(\n",
    "        embedding_dim,\n",
    "        hidden_neurons,\n",
    "        vocabulary_size,\n",
    "        iterations,\n",
    "        minibatch_size,\n",
    "        learning_rate,\n",
    "        Xtrain, Ytrain\n",
    "    )\n",
    "    trains.append(losses[0])\n",
    "    develops.append(losses[1])\n",
    "\n",
    "    print('-'*40)\n",
    "    print(f'{hidden_neurons = }')\n",
    "    print(' Train | Develop')\n",
    "    print(losses)\n",
    "    print('-'*40)\n",
    "\n",
    "plt.plot(neurons_amounts, trains)\n",
    "plt.plot(neurons_amounts, develops)"
   ]
  },
  {
   "cell_type": "code",
   "execution_count": 83,
   "metadata": {},
   "outputs": [
    {
     "name": "stdout",
     "output_type": "stream",
     "text": [
      "12947\n",
      "      0/  10000: 3.2970\n",
      "   1000/  10000: 2.2134\n",
      "   2000/  10000: 2.0915\n",
      "   3000/  10000: 2.0177\n",
      "   4000/  10000: 1.9099\n",
      "   5000/  10000: 1.9392\n",
      "   6000/  10000: 2.0674\n",
      "   7000/  10000: 2.0290\n",
      "   8000/  10000: 2.0730\n",
      "   9000/  10000: 2.0110\n"
     ]
    }
   ],
   "source": [
    "train, develop, losses= train_model(\n",
    "    embedding_dim,\n",
    "    hidden_neurons,\n",
    "    vocabulary_size,\n",
    "    iterations,\n",
    "    minibatch_size,\n",
    "    learning_rate,\n",
    "    Xtrain, Ytrain\n",
    ")\n",
    "\n",
    "losses = torch.tensor(losses).view(-1, 1000).sum(1).tolist()"
   ]
  },
  {
   "cell_type": "code",
   "execution_count": 84,
   "metadata": {},
   "outputs": [
    {
     "data": {
      "text/plain": [
       "[<matplotlib.lines.Line2D at 0x302c686a0>]"
      ]
     },
     "execution_count": 84,
     "metadata": {},
     "output_type": "execute_result"
    },
    {
     "data": {
      "image/png": "[encoded data removed]",
      "text/plain": [
       "<Figure size 640x480 with 1 Axes>"
      ]
     },
     "metadata": {},
     "output_type": "display_data"
    }
   ],
   "source": [
    "plt.plot(losses)"
   ]
  },
  {
   "cell_type": "code",
   "execution_count": 85,
   "metadata": {},
   "outputs": [
    {
     "data": {
      "text/plain": [
       "(2.0877525806427, 2.1524131298065186)"
      ]
     },
     "execution_count": 85,
     "metadata": {},
     "output_type": "execute_result"
    }
   ],
   "source": [
    "train, develop"
   ]
  },
  {
   "cell_type": "code",
   "execution_count": null,
   "metadata": {},
   "outputs": [],
   "source": [
    "\"\"\" Sampling from model\n",
    "# Sample from the model.\n",
    "g = torch.Generator().manual_seed(13 + 10)\n",
    "for _ in range (20):\n",
    "    out = []\n",
    "    context = [0] * block_size # initialize with all ...\n",
    "    while True:\n",
    "        # forward pass the neural net\n",
    "        logits = model(torch.tensor([context])) # (1, block_size, n_embd)\n",
    "        probs = F.softmax(logits, dim=1)\n",
    "        # sample from the distribution\n",
    "        ix = torch.multinomial(probs, num_samples=1, generator=g).item()\n",
    "        # shift the context window and track the samples\n",
    "        context = context[1:] + [ix]\n",
    "        out.append(ix)\n",
    "        # if we sample the special '' token, break\n",
    "        if ix == 0:\n",
    "            break\n",
    "    print(\"\".join(itos[i] for i in out)) # decode and print the generated word\n",
    "\"\"\""
   ]
  }
 ],
 "metadata": {
  "kernelspec": {
   "display_name": "makemore_env",
   "language": "python",
   "name": "python3"
  },
  "language_info": {
   "codemirror_mode": {
    "name": "ipython",
    "version": 3
   },
   "file_extension": ".py",
   "mimetype": "text/x-python",
   "name": "python",
   "nbconvert_exporter": "python",
   "pygments_lexer": "ipython3",
   "version": "3.9.19"
  }
 },
 "nbformat": 4,
 "nbformat_minor": 2
}
