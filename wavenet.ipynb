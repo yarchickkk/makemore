{
 "cells": [
  {
   "cell_type": "code",
   "execution_count": 1,
   "metadata": {},
   "outputs": [],
   "source": [
    "import torch\n",
    "import torch.nn.functional as F\n",
    "import matplotlib.pyplot as plt\n",
    "%matplotlib inline"
   ]
  },
  {
   "cell_type": "code",
   "execution_count": 2,
   "metadata": {},
   "outputs": [
    {
     "name": "stdout",
     "output_type": "stream",
     "text": [
      "Total amount of words: 32033\n"
     ]
    }
   ],
   "source": [
    "# Read in all the words.\n",
    "words = open('names.txt', 'r').read().splitlines()\n",
    "print(f\"Total amount of words: {len(words)}\")"
   ]
  },
  {
   "cell_type": "code",
   "execution_count": 3,
   "metadata": {},
   "outputs": [
    {
     "name": "stdout",
     "output_type": "stream",
     "text": [
      "Vocabulary size: 27\n"
     ]
    }
   ],
   "source": [
    "# Build the vocabulary of characters and mappings to/from integers.\n",
    "chars = sorted(list(set(''.join(words))))\n",
    "stoi = {ch: ix + 1 for ix, ch in enumerate(chars)}\n",
    "stoi['.'] = 0\n",
    "itos = {ix: ch for ch, ix in stoi.items()}\n",
    "vocabulary_size = len(itos)\n",
    "print(f\"Vocabulary size: {vocabulary_size}\")"
   ]
  },
  {
   "cell_type": "code",
   "execution_count": 4,
   "metadata": {},
   "outputs": [],
   "source": [
    "def build_dataset(words: list[str], context_size: int = 3, logging: bool = False) -> tuple[torch.tensor]:\n",
    "    \"\"\"\n",
    "    Given an list of string words, creates input and output targets.\n",
    "    Args:\n",
    "        words(list[int], shape=[n]): List of all words to sample examples from.\n",
    "        context_size(int)          : How many characters are considered for prediction.\n",
    "        logging(bool)              : Whether to print builded examples or not.\n",
    "    Returns:\n",
    "        X(torch.tensor, shape=[m, contex size]): Input tensor, where m is number of examples.\n",
    "        Y(torch.tensor, shape=[m])             : Target tensor, where m is number of examples.\n",
    "    \"\"\"\n",
    "    X, Y = [], []\n",
    "    for word in words:\n",
    "        context = [0] * context_size\n",
    "        for ch in word + '.':\n",
    "            X.append(context)\n",
    "            Y.append(stoi[ch])\n",
    "            context = context[1:] + [stoi[ch]]\n",
    "    X, Y = torch.tensor(X), torch.tensor(Y)\n",
    "    if logging:\n",
    "        print(f'Input: {X.shape}, Output: {Y.shape}')\n",
    "    return X, Y"
   ]
  },
  {
   "cell_type": "code",
   "execution_count": 5,
   "metadata": {},
   "outputs": [],
   "source": [
    "from typing import Any\n",
    "\n",
    "\n",
    "class Linear():\n",
    "    def __init__(self, fan_in: int, fan_out: int, bias: bool = True) -> None:\n",
    "        self.weight = torch.randn((fan_in, fan_out)) / fan_in**0.5  # kaiming init\n",
    "        self.bias = torch.zeros(fan_out) if bias else None\n",
    "\n",
    "    def __call__(self, x: torch.tensor) -> torch.tensor:\n",
    "        self.out = x @ self.weight\n",
    "        if self.bias is not None:\n",
    "            self.out += self.bias      \n",
    "        return self.out\n",
    "\n",
    "    def parameters(self) -> list:\n",
    "        return [self.weight] + ([self.bias] if self.bias is not None else [])\n",
    "    \n",
    "\n",
    "class BatchNorm1d():\n",
    "    def __init__(self, dim: int, eps: float = 1e-5, momentum: float = 0.1) -> None:\n",
    "        self.eps = eps\n",
    "        self.momentum = momentum\n",
    "        self.training = True\n",
    "        # parameters (trained with backprop)\n",
    "        self.gamma = torch.ones(dim)\n",
    "        self.beta = torch.zeros(dim)\n",
    "        # buffers (trained wdith a running 'momentum update')\n",
    "        self.running_mean = torch.zeros(dim)\n",
    "        self.running_var = torch.ones(dim)\n",
    "\n",
    "    def __call__(self, x: torch.tensor) -> torch.tensor:\n",
    "        if self.training:\n",
    "            # check input's dimensionality\n",
    "            if x.dim() == 2:\n",
    "                dim = 0\n",
    "            elif x.dim() == 3:\n",
    "                dim = (0, 1)\n",
    "            else:\n",
    "                raise Exception(f'Able to process 2D or 3D tensors only, received {x.dim()}D tensor')\n",
    "            xmean = x.mean(dim, keepdim=True)\n",
    "            xvar = x.var(dim, keepdim=True)\n",
    "        else:\n",
    "            xmean = self.running_mean\n",
    "            xvar = self.running_var\n",
    "        xhat = (x - xmean) / torch.sqrt(xvar + self.eps)\n",
    "        self.out = self.gamma * xhat + self.beta\n",
    "        # update the buffers\n",
    "        if self.training:\n",
    "            with torch.no_grad():\n",
    "                self.running_mean = self.running_mean * (1.0 - self.momentum) + xmean * self.momentum\n",
    "                self.running_var = self.running_var * (1.0 - self.momentum) + xvar * self.momentum\n",
    "        return self.out\n",
    "    \n",
    "    def parameters(self):\n",
    "        return [self.gamma, self.beta]\n",
    "\n",
    "\n",
    "class Tanh():\n",
    "    def __call__(self, x: torch.tensor) -> torch.tensor:\n",
    "        self.out = torch.tanh(x)\n",
    "        return self.out\n",
    "    \n",
    "    def parameters(self):\n",
    "        return []\n",
    "    \n",
    "\n",
    "class Embedding():\n",
    "    def __init__(self, num_embeddings: int, embedding_dim: int) -> None:\n",
    "        self.weight = torch.randn((num_embeddings, embedding_dim))\n",
    "\n",
    "    def __call__(self, IX: torch.tensor) -> torch.tensor:\n",
    "        self.out = self.weight[IX]\n",
    "        return self.out\n",
    "    \n",
    "    def parameters(self) -> list[torch.tensor]:\n",
    "        return [self.weight]\n",
    "    \n",
    "\n",
    "class FlattenConsecutive():\n",
    "    def __init__(self, n: int) -> None:\n",
    "        self.n = n  # number of consecutice elements\n",
    "\n",
    "    def __call__(self, x: torch.tensor) -> torch.tensor:\n",
    "        B, T, C = x.shape\n",
    "        x = x.view(B, T // self.n, C * self.n)\n",
    "        if x.shape[1] == 1:\n",
    "            x = x.squeeze(1)\n",
    "        self.out = x\n",
    "        return self.out\n",
    "    \n",
    "    def parameters(self) -> list:\n",
    "        return []\n",
    "    \n",
    "\n",
    "class Sequential():\n",
    "    def __init__(self, layers: list) -> None:\n",
    "        self.layers = layers\n",
    "    \n",
    "    def __call__(self, x: Any) -> Any:\n",
    "        for layer in self.layers:\n",
    "            x = layer(x)\n",
    "        self.out = x\n",
    "        return self.out\n",
    "    \n",
    "    def parameters(self) -> list:\n",
    "        return [p for layer in self.layers for p in layer.parameters()]"
   ]
  },
  {
   "cell_type": "code",
   "execution_count": 6,
   "metadata": {},
   "outputs": [],
   "source": [
    "torch.manual_seed(13);"
   ]
  },
  {
   "cell_type": "code",
   "execution_count": 7,
   "metadata": {},
   "outputs": [
    {
     "name": "stdout",
     "output_type": "stream",
     "text": [
      "Input: torch.Size([182597, 8]), Output: torch.Size([182597])\n",
      "Input: torch.Size([22761, 8]), Output: torch.Size([22761])\n",
      "Input: torch.Size([22788, 8]), Output: torch.Size([22788])\n"
     ]
    }
   ],
   "source": [
    "# Split the dataset on train, development and test set.\n",
    "import random\n",
    "random.seed(13)\n",
    "random.shuffle(words)\n",
    "n1 = int(len(words) * 0.8)\n",
    "n2 = int(len(words) * 0.9)\n",
    "\n",
    "\n",
    "block_size = 8  # how many charecters do we take to predict the next one?\n",
    "Xtrain, Ytrain = build_dataset(words[:n1], block_size, True)     # 80%\n",
    "Xdevelop, Ydevelop = build_dataset(words[n1:n2], block_size, True) # 10%\n",
    "Xtest, Ytest = build_dataset(words[n2:], block_size, True)     # 10%"
   ]
  },
  {
   "cell_type": "code",
   "execution_count": 8,
   "metadata": {},
   "outputs": [],
   "source": [
    "@torch.no_grad()  # this decorator disables gradient tracking\n",
    "def split_loss(split: str, evaluated_model: Sequential) -> None:\n",
    "    \"\"\"\n",
    "    Given a split name, evaluates it and prints the result.\n",
    "    Args:\n",
    "        split(str): name of the dataset split you'd like to evaluate.\n",
    "    \"\"\"\n",
    "    x, y = {  # Sets are global!\n",
    "        'train': (Xtrain, Ytrain),\n",
    "        'dev': (Xdevelop, Ydevelop),\n",
    "        'test': (Xtest, Ytest)\n",
    "    }[split]\n",
    "    \n",
    "    # swith to evaluation mode\n",
    "    for layer in evaluated_model.layers:\n",
    "        layer.training = False\n",
    "\n",
    "    logits =  evaluated_model(x)\n",
    "    loss = F.cross_entropy(logits, y)\n",
    "\n",
    "    # switch back to training mode\n",
    "    for layer in evaluated_model.layers:\n",
    "        layer.training = True\n",
    "    \n",
    "    return loss.item()"
   ]
  },
  {
   "cell_type": "code",
   "execution_count": 49,
   "metadata": {},
   "outputs": [],
   "source": [
    "def train_model(\n",
    "        n_embd: int, n_hidden: int, vocab_size: int,  # model's paramerers\n",
    "        max_steps: int, batch_size: int, lr: float,   # training settings\n",
    "        Xtr: torch.tensor, Ytr: torch.tensor          # training and target sets\n",
    ") -> list:\n",
    "    \"\"\"\n",
    "    Inintializes the models using given parameters and trains it with given settings on given sets.\n",
    "    \"\"\"\n",
    "\n",
    "    model = Sequential([\n",
    "        Embedding(vocab_size, n_embd), \n",
    "        FlattenConsecutive(2), Linear(n_embd * 2, n_hidden, bias=False), BatchNorm1d(n_hidden), Tanh(),\n",
    "        FlattenConsecutive(2), Linear(n_hidden * 2, n_hidden, bias=False), BatchNorm1d(n_hidden), Tanh(),\n",
    "        FlattenConsecutive(2), Linear(n_hidden * 2, n_hidden, bias=False), BatchNorm1d(n_hidden), Tanh(),\n",
    "        Linear(n_hidden, vocab_size)\n",
    "    ])\n",
    "\n",
    "    with torch.no_grad():\n",
    "        model.layers[-1].weight *= 0.01  # make last layer less confident\n",
    "    parameters = model.parameters()\n",
    "    print(sum(p.nelement() for p in parameters))\n",
    "    for p in parameters:\n",
    "        p.requires_grad = True\n",
    "    \n",
    "    lossi = []\n",
    "    trains = []\n",
    "    develops = []\n",
    "    for i in range(max_steps):\n",
    "        \"\"\"Mini-batch construct\"\"\"\n",
    "        ix = torch.randint(0, Xtr.shape[0], (batch_size,))\n",
    "        Xb, Yb = Xtr[ix], Ytr[ix]  # batch X, Y\n",
    "        \n",
    "        \"\"\"Forward pass\"\"\"\n",
    "        logits = model(Xb)\n",
    "        loss = F.cross_entropy(logits, Yb)  # loss function\n",
    "        \n",
    "        \"\"\"Backward pass\"\"\"\n",
    "        for p in parameters:\n",
    "            p.grad = None\n",
    "        loss.backward()\n",
    "        \n",
    "        \"\"\"Update\"\"\"\n",
    "        # lr = 1.0 if i < 90000 else 0.01  # learning step decay\n",
    "        if i % 20000 == 0:\n",
    "            lr *= 0.97\n",
    "        if i > 150000:\n",
    "            lr = 0.01\n",
    "            batch_size = 64\n",
    "        for p in parameters:\n",
    "            p.data += -lr * p.grad\n",
    "        \n",
    "        \"\"\"Track stats\"\"\"\n",
    "        if i % 10000 == 0:\n",
    "            print(f\"{i:7d}/{max_steps:7d}: {loss.item():.4f}\")\n",
    "            train_loss = split_loss('train', model)\n",
    "            develop_loss = split_loss('dev', model)\n",
    "            trains.append(train_loss)\n",
    "            develops.append(develop_loss)\n",
    "        lossi.append(loss.log10().item())\n",
    "\n",
    "    \"\"\"Plotting\"\"\"\n",
    "    # plt.plot(torch.tensor(lossi).view(-1, 1000).mean(1))\n",
    "    # train_loss = split_loss('train', model)\n",
    "    # devlop_loss = split_loss('dev', model)\n",
    "    return [trains, develops, lossi]"
   ]
  },
  {
   "cell_type": "code",
   "execution_count": 50,
   "metadata": {},
   "outputs": [],
   "source": [
    "embedding_dim = 40\n",
    "hidden_neurons = 120\n",
    "learning_rate = 0.257#0.5#0.7327\n",
    "iterations = 200000\n",
    "minibatch_size = 32"
   ]
  },
  {
   "cell_type": "code",
   "execution_count": 12,
   "metadata": {},
   "outputs": [
    {
     "name": "stdout",
     "output_type": "stream",
     "text": [
      "50137\n",
      "      0/ 200000: 3.2962\n"
     ]
    },
    {
     "ename": "KeyboardInterrupt",
     "evalue": "",
     "output_type": "error",
     "traceback": [
      "\u001b[1;31m---------------------------------------------------------------------------\u001b[0m",
      "\u001b[1;31mKeyboardInterrupt\u001b[0m                         Traceback (most recent call last)",
      "Cell \u001b[1;32mIn[12], line 6\u001b[0m\n\u001b[0;32m      4\u001b[0m \u001b[38;5;28;01mfor\u001b[39;00m i \u001b[38;5;129;01min\u001b[39;00m \u001b[38;5;28mrange\u001b[39m(\u001b[38;5;28mlen\u001b[39m(lrs)):\n\u001b[0;32m      5\u001b[0m     learning_rate \u001b[38;5;241m=\u001b[39m lrs[i]\n\u001b[1;32m----> 6\u001b[0m     trains, develops, losses \u001b[38;5;241m=\u001b[39m \u001b[43mtrain_model\u001b[49m\u001b[43m(\u001b[49m\n\u001b[0;32m      7\u001b[0m \u001b[43m        \u001b[49m\u001b[43membedding_dim\u001b[49m\u001b[43m,\u001b[49m\n\u001b[0;32m      8\u001b[0m \u001b[43m        \u001b[49m\u001b[43mhidden_neurons\u001b[49m\u001b[43m,\u001b[49m\n\u001b[0;32m      9\u001b[0m \u001b[43m        \u001b[49m\u001b[43mvocabulary_size\u001b[49m\u001b[43m,\u001b[49m\n\u001b[0;32m     10\u001b[0m \u001b[43m        \u001b[49m\u001b[43miterations\u001b[49m\u001b[43m,\u001b[49m\n\u001b[0;32m     11\u001b[0m \u001b[43m        \u001b[49m\u001b[43mminibatch_size\u001b[49m\u001b[43m,\u001b[49m\n\u001b[0;32m     12\u001b[0m \u001b[43m        \u001b[49m\u001b[43mlearning_rate\u001b[49m\u001b[43m,\u001b[49m\n\u001b[0;32m     13\u001b[0m \u001b[43m        \u001b[49m\u001b[43mXtrain\u001b[49m\u001b[43m,\u001b[49m\u001b[43m \u001b[49m\u001b[43mYtrain\u001b[49m\n\u001b[0;32m     14\u001b[0m \u001b[43m    \u001b[49m\u001b[43m)\u001b[49m\n\u001b[0;32m     15\u001b[0m     trains\u001b[38;5;241m.\u001b[39mappend(trains[\u001b[38;5;241m-\u001b[39m\u001b[38;5;241m1\u001b[39m])\n\u001b[0;32m     16\u001b[0m     develops\u001b[38;5;241m.\u001b[39mappend(develops[\u001b[38;5;241m-\u001b[39m\u001b[38;5;241m1\u001b[39m])\n",
      "Cell \u001b[1;32mIn[9], line 56\u001b[0m, in \u001b[0;36mtrain_model\u001b[1;34m(n_embd, n_hidden, vocab_size, max_steps, batch_size, lr, Xtr, Ytr)\u001b[0m\n\u001b[0;32m     54\u001b[0m \u001b[38;5;28mprint\u001b[39m(\u001b[38;5;124mf\u001b[39m\u001b[38;5;124m\"\u001b[39m\u001b[38;5;132;01m{\u001b[39;00mi\u001b[38;5;132;01m:\u001b[39;00m\u001b[38;5;124m7d\u001b[39m\u001b[38;5;132;01m}\u001b[39;00m\u001b[38;5;124m/\u001b[39m\u001b[38;5;132;01m{\u001b[39;00mmax_steps\u001b[38;5;132;01m:\u001b[39;00m\u001b[38;5;124m7d\u001b[39m\u001b[38;5;132;01m}\u001b[39;00m\u001b[38;5;124m: \u001b[39m\u001b[38;5;132;01m{\u001b[39;00mloss\u001b[38;5;241m.\u001b[39mitem()\u001b[38;5;132;01m:\u001b[39;00m\u001b[38;5;124m.4f\u001b[39m\u001b[38;5;132;01m}\u001b[39;00m\u001b[38;5;124m\"\u001b[39m)\n\u001b[0;32m     55\u001b[0m train_loss \u001b[38;5;241m=\u001b[39m split_loss(\u001b[38;5;124m'\u001b[39m\u001b[38;5;124mtrain\u001b[39m\u001b[38;5;124m'\u001b[39m, model)\n\u001b[1;32m---> 56\u001b[0m develop_loss \u001b[38;5;241m=\u001b[39m \u001b[43msplit_loss\u001b[49m\u001b[43m(\u001b[49m\u001b[38;5;124;43m'\u001b[39;49m\u001b[38;5;124;43mdev\u001b[39;49m\u001b[38;5;124;43m'\u001b[39;49m\u001b[43m,\u001b[49m\u001b[43m \u001b[49m\u001b[43mmodel\u001b[49m\u001b[43m)\u001b[49m\n\u001b[0;32m     57\u001b[0m trains\u001b[38;5;241m.\u001b[39mappend(train_loss)\n\u001b[0;32m     58\u001b[0m develops\u001b[38;5;241m.\u001b[39mappend(develop_loss)\n",
      "File \u001b[1;32mc:\\Users\\Yaros\\miniconda3\\envs\\makemore_env\\lib\\site-packages\\torch\\utils\\_contextlib.py:116\u001b[0m, in \u001b[0;36mcontext_decorator.<locals>.decorate_context\u001b[1;34m(*args, **kwargs)\u001b[0m\n\u001b[0;32m    113\u001b[0m \u001b[38;5;129m@functools\u001b[39m\u001b[38;5;241m.\u001b[39mwraps(func)\n\u001b[0;32m    114\u001b[0m \u001b[38;5;28;01mdef\u001b[39;00m \u001b[38;5;21mdecorate_context\u001b[39m(\u001b[38;5;241m*\u001b[39margs, \u001b[38;5;241m*\u001b[39m\u001b[38;5;241m*\u001b[39mkwargs):\n\u001b[0;32m    115\u001b[0m     \u001b[38;5;28;01mwith\u001b[39;00m ctx_factory():\n\u001b[1;32m--> 116\u001b[0m         \u001b[38;5;28;01mreturn\u001b[39;00m func(\u001b[38;5;241m*\u001b[39margs, \u001b[38;5;241m*\u001b[39m\u001b[38;5;241m*\u001b[39mkwargs)\n",
      "Cell \u001b[1;32mIn[8], line 18\u001b[0m, in \u001b[0;36msplit_loss\u001b[1;34m(split, evaluated_model)\u001b[0m\n\u001b[0;32m     15\u001b[0m \u001b[38;5;28;01mfor\u001b[39;00m layer \u001b[38;5;129;01min\u001b[39;00m evaluated_model\u001b[38;5;241m.\u001b[39mlayers:\n\u001b[0;32m     16\u001b[0m     layer\u001b[38;5;241m.\u001b[39mtraining \u001b[38;5;241m=\u001b[39m \u001b[38;5;28;01mFalse\u001b[39;00m\n\u001b[1;32m---> 18\u001b[0m logits \u001b[38;5;241m=\u001b[39m  \u001b[43mevaluated_model\u001b[49m\u001b[43m(\u001b[49m\u001b[43mx\u001b[49m\u001b[43m)\u001b[49m\n\u001b[0;32m     19\u001b[0m loss \u001b[38;5;241m=\u001b[39m F\u001b[38;5;241m.\u001b[39mcross_entropy(logits, y)\n\u001b[0;32m     21\u001b[0m \u001b[38;5;66;03m# switch back to training mode\u001b[39;00m\n",
      "Cell \u001b[1;32mIn[5], line 101\u001b[0m, in \u001b[0;36mSequential.__call__\u001b[1;34m(self, x)\u001b[0m\n\u001b[0;32m     99\u001b[0m \u001b[38;5;28;01mdef\u001b[39;00m \u001b[38;5;21m__call__\u001b[39m(\u001b[38;5;28mself\u001b[39m, x: Any) \u001b[38;5;241m-\u001b[39m\u001b[38;5;241m>\u001b[39m Any:\n\u001b[0;32m    100\u001b[0m     \u001b[38;5;28;01mfor\u001b[39;00m layer \u001b[38;5;129;01min\u001b[39;00m \u001b[38;5;28mself\u001b[39m\u001b[38;5;241m.\u001b[39mlayers:\n\u001b[1;32m--> 101\u001b[0m         x \u001b[38;5;241m=\u001b[39m \u001b[43mlayer\u001b[49m\u001b[43m(\u001b[49m\u001b[43mx\u001b[49m\u001b[43m)\u001b[49m\n\u001b[0;32m    102\u001b[0m     \u001b[38;5;28mself\u001b[39m\u001b[38;5;241m.\u001b[39mout \u001b[38;5;241m=\u001b[39m x\n\u001b[0;32m    103\u001b[0m     \u001b[38;5;28;01mreturn\u001b[39;00m \u001b[38;5;28mself\u001b[39m\u001b[38;5;241m.\u001b[39mout\n",
      "Cell \u001b[1;32mIn[5], line 10\u001b[0m, in \u001b[0;36mLinear.__call__\u001b[1;34m(self, x)\u001b[0m\n\u001b[0;32m      9\u001b[0m \u001b[38;5;28;01mdef\u001b[39;00m \u001b[38;5;21m__call__\u001b[39m(\u001b[38;5;28mself\u001b[39m, x: torch\u001b[38;5;241m.\u001b[39mtensor) \u001b[38;5;241m-\u001b[39m\u001b[38;5;241m>\u001b[39m torch\u001b[38;5;241m.\u001b[39mtensor:\n\u001b[1;32m---> 10\u001b[0m     \u001b[38;5;28mself\u001b[39m\u001b[38;5;241m.\u001b[39mout \u001b[38;5;241m=\u001b[39m \u001b[43mx\u001b[49m\u001b[43m \u001b[49m\u001b[38;5;241;43m@\u001b[39;49m\u001b[43m \u001b[49m\u001b[38;5;28;43mself\u001b[39;49m\u001b[38;5;241;43m.\u001b[39;49m\u001b[43mweight\u001b[49m\n\u001b[0;32m     11\u001b[0m     \u001b[38;5;28;01mif\u001b[39;00m \u001b[38;5;28mself\u001b[39m\u001b[38;5;241m.\u001b[39mbias \u001b[38;5;129;01mis\u001b[39;00m \u001b[38;5;129;01mnot\u001b[39;00m \u001b[38;5;28;01mNone\u001b[39;00m:\n\u001b[0;32m     12\u001b[0m         \u001b[38;5;28mself\u001b[39m\u001b[38;5;241m.\u001b[39mout \u001b[38;5;241m+\u001b[39m\u001b[38;5;241m=\u001b[39m \u001b[38;5;28mself\u001b[39m\u001b[38;5;241m.\u001b[39mbias      \n",
      "\u001b[1;31mKeyboardInterrupt\u001b[0m: "
     ]
    }
   ],
   "source": [
    "# learning rate = 0.7327, 0.25\n",
    "trains, develops = [], []\n",
    "lrs = torch.linspace(1.0, 0.01, 5).tolist()\n",
    "for i in range(len(lrs)):\n",
    "    learning_rate = lrs[i]\n",
    "    trains, develops, losses = train_model(\n",
    "        embedding_dim,\n",
    "        hidden_neurons,\n",
    "        vocabulary_size,\n",
    "        iterations,\n",
    "        minibatch_size,\n",
    "        learning_rate,\n",
    "        Xtrain, Ytrain\n",
    "    )\n",
    "    trains.append(trains[-1])\n",
    "    develops.append(develops[-1])\n",
    "\n",
    "    print('-'*40)\n",
    "    print(f'{learning_rate = }')\n",
    "    print(' Train | Develop')\n",
    "    print(trains[-1], develops[-1])\n",
    "    print('-'*40)\n",
    "\n",
    "plt.plot(lrs, trains)\n",
    "plt.plot(lrs, develops)"
   ]
  },
  {
   "cell_type": "code",
   "execution_count": 34,
   "metadata": {},
   "outputs": [],
   "source": [
    "torch.set_num_threads(32)"
   ]
  },
  {
   "cell_type": "code",
   "execution_count": null,
   "metadata": {},
   "outputs": [],
   "source": [
    "# Bigger size is better, 256 seemed best on 8 context length\n",
    "trains, develops = [], []\n",
    "batch_sizes = [256, 512]\n",
    "for i in range(len(batch_sizes)):\n",
    "    minibatch_size = batch_sizes[i]\n",
    "    losses = train_model(\n",
    "        embedding_dim,\n",
    "        hidden_neurons,\n",
    "        vocabulary_size,\n",
    "        iterations,\n",
    "        minibatch_size,\n",
    "        learning_rate,\n",
    "        Xtrain, Ytrain\n",
    "    )\n",
    "    trains.append(losses[0])\n",
    "    develops.append(losses[1])\n",
    "\n",
    "    print('-'*40)\n",
    "    print(f'{minibatch_size = }')\n",
    "    print(' Train | Develop')\n",
    "    print(losses)\n",
    "    print('-'*40)\n",
    "\n",
    "plt.plot(batch_sizes, trains)\n",
    "plt.plot(batch_sizes, develops)"
   ]
  },
  {
   "cell_type": "code",
   "execution_count": 119,
   "metadata": {},
   "outputs": [
    {
     "name": "stdout",
     "output_type": "stream",
     "text": [
      "22605\n",
      "      0/  10000: 3.2955\n",
      "   1000/  10000: 2.4760\n",
      "   2000/  10000: 2.3594\n",
      "   3000/  10000: 2.1840\n",
      "   4000/  10000: 2.2305\n",
      "   5000/  10000: 2.5931\n",
      "   6000/  10000: 2.0510\n",
      "   7000/  10000: 2.3236\n",
      "   8000/  10000: 1.8810\n",
      "   9000/  10000: 2.1109\n",
      "----------------------------------------\n",
      "embedding_dim = 4\n",
      " Train | Develop\n",
      "2.15006160736084 2.1831321716308594\n",
      "----------------------------------------\n",
      "23273\n",
      "      0/  10000: 3.2955\n",
      "   1000/  10000: 2.1431\n",
      "   2000/  10000: 2.3586\n",
      "   3000/  10000: 2.1735\n",
      "   4000/  10000: 2.0052\n",
      "   5000/  10000: 2.3233\n",
      "   6000/  10000: 2.3741\n",
      "   7000/  10000: 2.0575\n",
      "   8000/  10000: 2.1175\n",
      "   9000/  10000: 2.0643\n",
      "----------------------------------------\n",
      "embedding_dim = 8\n",
      " Train | Develop\n",
      "2.115809202194214 2.16291880607605\n",
      "----------------------------------------\n",
      "23941\n",
      "      0/  10000: 3.2950\n",
      "   1000/  10000: 2.3502\n",
      "   2000/  10000: 2.2028\n",
      "   3000/  10000: 2.3089\n",
      "   4000/  10000: 2.2177\n",
      "   5000/  10000: 2.2565\n",
      "   6000/  10000: 2.1711\n",
      "   7000/  10000: 2.3632\n",
      "   8000/  10000: 2.1425\n",
      "   9000/  10000: 2.2909\n",
      "----------------------------------------\n",
      "embedding_dim = 12\n",
      " Train | Develop\n",
      "2.1040217876434326 2.149277448654175\n",
      "----------------------------------------\n",
      "24609\n",
      "      0/  10000: 3.2957\n",
      "   1000/  10000: 2.2283\n",
      "   2000/  10000: 2.4349\n",
      "   3000/  10000: 2.0658\n",
      "   4000/  10000: 2.1423\n",
      "   5000/  10000: 2.2591\n",
      "   6000/  10000: 1.9867\n",
      "   7000/  10000: 2.4191\n",
      "   8000/  10000: 2.4289\n",
      "   9000/  10000: 2.4336\n",
      "----------------------------------------\n",
      "embedding_dim = 16\n",
      " Train | Develop\n",
      "2.1088316440582275 2.1471107006073\n",
      "----------------------------------------\n",
      "25277\n",
      "      0/  10000: 3.2966\n",
      "   1000/  10000: 2.3794\n",
      "   2000/  10000: 1.9742\n",
      "   3000/  10000: 1.9451\n",
      "   4000/  10000: 2.0496\n",
      "   5000/  10000: 2.2479\n",
      "   6000/  10000: 2.2826\n",
      "   7000/  10000: 1.9123\n",
      "   8000/  10000: 2.0655\n",
      "   9000/  10000: 1.9807\n",
      "----------------------------------------\n",
      "embedding_dim = 20\n",
      " Train | Develop\n",
      "2.083911418914795 2.1279613971710205\n",
      "----------------------------------------\n",
      "25945\n",
      "      0/  10000: 3.2969\n",
      "   1000/  10000: 1.9048\n",
      "   2000/  10000: 2.0689\n",
      "   3000/  10000: 2.2418\n",
      "   4000/  10000: 2.5284\n",
      "   5000/  10000: 2.0483\n",
      "   6000/  10000: 2.1327\n",
      "   7000/  10000: 2.1102\n",
      "   8000/  10000: 1.9697\n",
      "   9000/  10000: 2.3132\n",
      "----------------------------------------\n",
      "embedding_dim = 24\n",
      " Train | Develop\n",
      "2.084202766418457 2.1263887882232666\n",
      "----------------------------------------\n",
      "26613\n",
      "      0/  10000: 3.2958\n",
      "   1000/  10000: 2.0700\n",
      "   2000/  10000: 2.0551\n",
      "   3000/  10000: 2.0463\n",
      "   4000/  10000: 1.9836\n",
      "   5000/  10000: 2.3071\n",
      "   6000/  10000: 2.1080\n",
      "   7000/  10000: 1.8462\n",
      "   8000/  10000: 1.9368\n",
      "   9000/  10000: 2.2104\n",
      "----------------------------------------\n",
      "embedding_dim = 28\n",
      " Train | Develop\n",
      "2.077785015106201 2.1245100498199463\n",
      "----------------------------------------\n"
     ]
    },
    {
     "ename": "AttributeError",
     "evalue": "'float' object has no attribute 'item'",
     "output_type": "error",
     "traceback": [
      "\u001b[1;31m---------------------------------------------------------------------------\u001b[0m",
      "\u001b[1;31mAttributeError\u001b[0m                            Traceback (most recent call last)",
      "Cell \u001b[1;32mIn[119], line 24\u001b[0m\n\u001b[0;32m     21\u001b[0m     \u001b[38;5;28mprint\u001b[39m(trs[\u001b[38;5;241m-\u001b[39m\u001b[38;5;241m1\u001b[39m], devs[\u001b[38;5;241m-\u001b[39m\u001b[38;5;241m1\u001b[39m])\n\u001b[0;32m     22\u001b[0m     \u001b[38;5;28mprint\u001b[39m(\u001b[38;5;124m'\u001b[39m\u001b[38;5;124m-\u001b[39m\u001b[38;5;124m'\u001b[39m\u001b[38;5;241m*\u001b[39m\u001b[38;5;241m40\u001b[39m)\n\u001b[1;32m---> 24\u001b[0m plt\u001b[38;5;241m.\u001b[39mplot(embdims, [tr\u001b[38;5;241m.\u001b[39mitem() \u001b[38;5;28;01mfor\u001b[39;00m tr \u001b[38;5;129;01min\u001b[39;00m trains])\n\u001b[0;32m     25\u001b[0m plt\u001b[38;5;241m.\u001b[39mplot(embdims, [dev\u001b[38;5;241m.\u001b[39mitem() \u001b[38;5;28;01mfor\u001b[39;00m dev \u001b[38;5;129;01min\u001b[39;00m develops])\n",
      "Cell \u001b[1;32mIn[119], line 24\u001b[0m, in \u001b[0;36m<listcomp>\u001b[1;34m(.0)\u001b[0m\n\u001b[0;32m     21\u001b[0m     \u001b[38;5;28mprint\u001b[39m(trs[\u001b[38;5;241m-\u001b[39m\u001b[38;5;241m1\u001b[39m], devs[\u001b[38;5;241m-\u001b[39m\u001b[38;5;241m1\u001b[39m])\n\u001b[0;32m     22\u001b[0m     \u001b[38;5;28mprint\u001b[39m(\u001b[38;5;124m'\u001b[39m\u001b[38;5;124m-\u001b[39m\u001b[38;5;124m'\u001b[39m\u001b[38;5;241m*\u001b[39m\u001b[38;5;241m40\u001b[39m)\n\u001b[1;32m---> 24\u001b[0m plt\u001b[38;5;241m.\u001b[39mplot(embdims, [\u001b[43mtr\u001b[49m\u001b[38;5;241;43m.\u001b[39;49m\u001b[43mitem\u001b[49m() \u001b[38;5;28;01mfor\u001b[39;00m tr \u001b[38;5;129;01min\u001b[39;00m trains])\n\u001b[0;32m     25\u001b[0m plt\u001b[38;5;241m.\u001b[39mplot(embdims, [dev\u001b[38;5;241m.\u001b[39mitem() \u001b[38;5;28;01mfor\u001b[39;00m dev \u001b[38;5;129;01min\u001b[39;00m develops])\n",
      "\u001b[1;31mAttributeError\u001b[0m: 'float' object has no attribute 'item'"
     ]
    }
   ],
   "source": [
    "# 20 is good\n",
    "trains, develops = [], []\n",
    "embdims = [4, 8, 12, 16, 20, 24, 28]\n",
    "for i in range(len(embdims)):\n",
    "    embedding_dim = embdims[i]\n",
    "    trs, devs, losses = train_model(\n",
    "        embedding_dim,\n",
    "        hidden_neurons,\n",
    "        vocabulary_size,\n",
    "        iterations,\n",
    "        minibatch_size,\n",
    "        learning_rate,\n",
    "        Xtrain, Ytrain\n",
    "    )\n",
    "    trains.append(trs[-1])\n",
    "    develops.append(devs[-1])\n",
    "\n",
    "    print('-'*40)\n",
    "    print(f'{embedding_dim = }')\n",
    "    print(' Train | Develop')\n",
    "    print(trs[-1], devs[-1])\n",
    "    print('-'*40)\n",
    "\n",
    "plt.plot(embdims, [tr.item() for tr in trains])\n",
    "plt.plot(embdims, [dev.item() for dev in develops])"
   ]
  },
  {
   "cell_type": "code",
   "execution_count": 123,
   "metadata": {},
   "outputs": [
    {
     "name": "stdout",
     "output_type": "stream",
     "text": [
      "9887\n",
      "      0/  10000: 3.2957\n",
      "   1000/  10000: 2.3895\n",
      "   2000/  10000: 2.1604\n",
      "   3000/  10000: 2.3616\n",
      "   4000/  10000: 1.9456\n",
      "   5000/  10000: 2.0524\n",
      "   6000/  10000: 2.2385\n",
      "   7000/  10000: 2.1490\n",
      "   8000/  10000: 2.1307\n",
      "   9000/  10000: 2.1992\n",
      "----------------------------------------\n",
      "hidden_neurons = 40\n",
      " Train | Develop\n",
      "2.127599000930786 2.15541410446167\n",
      "----------------------------------------\n",
      "14217\n",
      "      0/  10000: 3.2957\n",
      "   1000/  10000: 2.2374\n",
      "   2000/  10000: 2.2025\n",
      "   3000/  10000: 2.4768\n",
      "   4000/  10000: 2.1942\n",
      "   5000/  10000: 2.0518\n",
      "   6000/  10000: 2.0729\n",
      "   7000/  10000: 2.1808\n",
      "   8000/  10000: 1.8511\n",
      "   9000/  10000: 2.3014\n",
      "----------------------------------------\n",
      "hidden_neurons = 50\n",
      " Train | Develop\n",
      "2.1007065773010254 2.1337342262268066\n",
      "----------------------------------------\n",
      "19347\n",
      "      0/  10000: 3.2955\n",
      "   1000/  10000: 2.3586\n",
      "   2000/  10000: 2.3541\n",
      "   3000/  10000: 2.1339\n",
      "   4000/  10000: 2.3487\n",
      "   5000/  10000: 2.1437\n",
      "   6000/  10000: 2.0633\n",
      "   7000/  10000: 2.0565\n",
      "   8000/  10000: 2.4081\n",
      "   9000/  10000: 2.1678\n",
      "----------------------------------------\n",
      "hidden_neurons = 60\n",
      " Train | Develop\n",
      "2.1041359901428223 2.143083095550537\n",
      "----------------------------------------\n",
      "25277\n",
      "      0/  10000: 3.2947\n",
      "   1000/  10000: 2.3642\n",
      "   2000/  10000: 2.2572\n",
      "   3000/  10000: 2.2727\n",
      "   4000/  10000: 2.1441\n",
      "   5000/  10000: 2.3426\n",
      "   6000/  10000: 2.4013\n",
      "   7000/  10000: 2.0908\n",
      "   8000/  10000: 2.2523\n",
      "   9000/  10000: 1.9817\n",
      "----------------------------------------\n",
      "hidden_neurons = 70\n",
      " Train | Develop\n",
      "2.0831029415130615 2.129347562789917\n",
      "----------------------------------------\n",
      "32007\n",
      "      0/  10000: 3.2964\n",
      "   1000/  10000: 2.1252\n",
      "   2000/  10000: 2.0372\n",
      "   3000/  10000: 2.2548\n",
      "   4000/  10000: 2.1426\n",
      "   5000/  10000: 2.0054\n",
      "   6000/  10000: 2.1099\n",
      "   7000/  10000: 2.1127\n",
      "   8000/  10000: 2.0787\n",
      "   9000/  10000: 2.2419\n",
      "----------------------------------------\n",
      "hidden_neurons = 80\n",
      " Train | Develop\n",
      "2.0742990970611572 2.1171929836273193\n",
      "----------------------------------------\n"
     ]
    },
    {
     "data": {
      "text/plain": [
       "[<matplotlib.lines.Line2D at 0x1d79d8d7160>]"
      ]
     },
     "execution_count": 123,
     "metadata": {},
     "output_type": "execute_result"
    },
    {
     "data": {
      "image/png": "[encoded data removed]",
      "text/plain": [
       "<Figure size 640x480 with 1 Axes>"
      ]
     },
     "metadata": {},
     "output_type": "display_data"
    }
   ],
   "source": [
    "# 70 is good\n",
    "trains, develops = [], []\n",
    "neurons_amounts = [40, 50, 60, 70, 80]\n",
    "for i in range(len(neurons_amounts)):\n",
    "    hidden_neurons = neurons_amounts[i]\n",
    "    trs, devs, losses = train_model(\n",
    "        embedding_dim,\n",
    "        hidden_neurons,\n",
    "        vocabulary_size,\n",
    "        iterations,\n",
    "        minibatch_size,\n",
    "        learning_rate,\n",
    "        Xtrain, Ytrain\n",
    "    )\n",
    "    trains.append(trs[-1])\n",
    "    develops.append(devs[-1])\n",
    "\n",
    "    print('-'*40)\n",
    "    print(f'{hidden_neurons = }')\n",
    "    print(' Train | Develop')\n",
    "    print(trs[-1], devs[-1])\n",
    "    print('-'*40)\n",
    "\n",
    "plt.plot(neurons_amounts, trains)\n",
    "plt.plot(neurons_amounts, develops)"
   ]
  },
  {
   "cell_type": "code",
   "execution_count": 51,
   "metadata": {},
   "outputs": [
    {
     "name": "stdout",
     "output_type": "stream",
     "text": [
      "72267\n",
      "      0/ 200000: 3.2937\n",
      "  10000/ 200000: 1.9888\n",
      "  20000/ 200000: 2.2617\n",
      "  30000/ 200000: 1.8993\n",
      "  40000/ 200000: 2.1750\n",
      "  50000/ 200000: 2.0102\n",
      "  60000/ 200000: 2.1025\n",
      "  70000/ 200000: 1.7214\n",
      "  80000/ 200000: 1.6774\n",
      "  90000/ 200000: 1.7541\n",
      " 100000/ 200000: 1.9380\n",
      " 110000/ 200000: 1.4028\n",
      " 120000/ 200000: 1.4980\n",
      " 130000/ 200000: 2.0226\n",
      " 140000/ 200000: 2.0066\n",
      " 150000/ 200000: 1.6397\n",
      " 160000/ 200000: 2.0559\n",
      " 170000/ 200000: 1.7135\n",
      " 180000/ 200000: 1.8001\n",
      " 190000/ 200000: 1.2147\n"
     ]
    }
   ],
   "source": [
    "trains, develops, losses= train_model(\n",
    "    embedding_dim,\n",
    "    hidden_neurons,\n",
    "    vocabulary_size,\n",
    "    iterations,\n",
    "    minibatch_size,\n",
    "    learning_rate,\n",
    "    Xtrain, Ytrain\n",
    ")\n",
    "\n",
    "losses = torch.tensor(losses).view(-1, 1000).sum(1).tolist()"
   ]
  },
  {
   "cell_type": "code",
   "execution_count": 52,
   "metadata": {},
   "outputs": [
    {
     "data": {
      "image/png": "[encoded data removed]",
      "text/plain": [
       "<Figure size 640x480 with 1 Axes>"
      ]
     },
     "metadata": {},
     "output_type": "display_data"
    }
   ],
   "source": [
    "plt.plot(losses);"
   ]
  },
  {
   "cell_type": "code",
   "execution_count": 53,
   "metadata": {},
   "outputs": [
    {
     "data": {
      "image/png": "[encoded data removed]",
      "text/plain": [
       "<Figure size 640x480 with 1 Axes>"
      ]
     },
     "metadata": {},
     "output_type": "display_data"
    }
   ],
   "source": [
    "plt.plot(trains)\n",
    "plt.plot(develops);"
   ]
  },
  {
   "cell_type": "code",
   "execution_count": null,
   "metadata": {},
   "outputs": [],
   "source": [
    "\"\"\" Sampling from model\n",
    "# Sample from the model.\n",
    "g = torch.Generator().manual_seed(13 + 10)\n",
    "for _ in range (20):\n",
    "    out = []\n",
    "    context = [0] * block_size # initialize with all ...\n",
    "    while True:\n",
    "        # forward pass the neural net\n",
    "        logits = model(torch.tensor([context])) # (1, block_size, n_embd)\n",
    "        probs = F.softmax(logits, dim=1)\n",
    "        # sample from the distribution\n",
    "        ix = torch.multinomial(probs, num_samples=1, generator=g).item()\n",
    "        # shift the context window and track the samples\n",
    "        context = context[1:] + [ix]\n",
    "        out.append(ix)\n",
    "        # if we sample the special '' token, break\n",
    "        if ix == 0:\n",
    "            break\n",
    "    print(\"\".join(itos[i] for i in out)) # decode and print the generated word\n",
    "\"\"\""
   ]
  },
  {
   "cell_type": "code",
   "execution_count": 55,
   "metadata": {},
   "outputs": [
    {
     "data": {
      "text/plain": [
       "(1.8165212869644165, 2.0059585571289062)"
      ]
     },
     "execution_count": 55,
     "metadata": {},
     "output_type": "execute_result"
    }
   ],
   "source": [
    "trains[-1], develops[-1]"
   ]
  },
  {
   "cell_type": "code",
   "execution_count": 56,
   "metadata": {},
   "outputs": [
    {
     "data": {
      "text/plain": [
       "[3.286442279815674,\n",
       " 2.155273675918579,\n",
       " 2.1126976013183594,\n",
       " 2.0872652530670166,\n",
       " 2.087939500808716,\n",
       " 2.0675771236419678,\n",
       " 2.06917142868042,\n",
       " 2.0614511966705322,\n",
       " 2.0643179416656494,\n",
       " 2.0474259853363037,\n",
       " 2.0565781593322754,\n",
       " 2.0455830097198486,\n",
       " 2.0433194637298584,\n",
       " 2.044924259185791,\n",
       " 2.0405561923980713,\n",
       " 2.0440115928649902,\n",
       " 2.0058629512786865,\n",
       " 2.0042388439178467,\n",
       " 2.004897117614746,\n",
       " 2.0059585571289062]"
      ]
     },
     "execution_count": 56,
     "metadata": {},
     "output_type": "execute_result"
    }
   ],
   "source": [
    "develops"
   ]
  },
  {
   "cell_type": "code",
   "execution_count": 215,
   "metadata": {},
   "outputs": [
    {
     "data": {
      "text/plain": [
       "[3.2656590938568115,\n",
       " 2.159106731414795,\n",
       " 2.125878095626831,\n",
       " 2.0876688957214355,\n",
       " 2.092001438140869,\n",
       " 2.072784662246704,\n",
       " 2.078343629837036,\n",
       " 2.0610110759735107,\n",
       " 2.0575573444366455,\n",
       " 2.0469956398010254]"
      ]
     },
     "execution_count": 215,
     "metadata": {},
     "output_type": "execute_result"
    }
   ],
   "source": [
    "develops"
   ]
  },
  {
   "cell_type": "code",
   "execution_count": 224,
   "metadata": {},
   "outputs": [
    {
     "data": {
      "text/plain": [
       "[3.2691969871520996,\n",
       " 2.1587774753570557,\n",
       " 2.1249985694885254,\n",
       " 2.0941884517669678,\n",
       " 2.0815343856811523,\n",
       " 2.0787274837493896,\n",
       " 2.0683348178863525,\n",
       " 2.0674710273742676,\n",
       " 2.077599048614502,\n",
       " 2.067131519317627]"
      ]
     },
     "execution_count": 224,
     "metadata": {},
     "output_type": "execute_result"
    }
   ],
   "source": [
    "develops"
   ]
  },
  {
   "cell_type": "code",
   "execution_count": 244,
   "metadata": {},
   "outputs": [
    {
     "data": {
      "text/plain": [
       "[3.203528881072998,\n",
       " 2.186952590942383,\n",
       " 2.183722496032715,\n",
       " 2.138371229171753,\n",
       " 2.124286413192749,\n",
       " 2.1255569458007812,\n",
       " 2.103883743286133,\n",
       " 2.0913546085357666,\n",
       " 2.10239839553833,\n",
       " 2.0895018577575684,\n",
       " 2.1002871990203857,\n",
       " 2.1136233806610107,\n",
       " 2.118013620376587,\n",
       " 2.105360746383667,\n",
       " 2.0979137420654297,\n",
       " 2.09718656539917,\n",
       " 2.0246896743774414,\n",
       " 2.019160270690918,\n",
       " 2.016582727432251,\n",
       " 2.013521432876587]"
      ]
     },
     "execution_count": 244,
     "metadata": {},
     "output_type": "execute_result"
    }
   ],
   "source": [
    "develops"
   ]
  },
  {
   "cell_type": "code",
   "execution_count": 18,
   "metadata": {},
   "outputs": [
    {
     "data": {
      "text/plain": [
       "[3.21083664894104,\n",
       " 2.1911911964416504,\n",
       " 2.1839706897735596,\n",
       " 2.167095899581909,\n",
       " 2.1189751625061035,\n",
       " 2.1447341442108154,\n",
       " 2.122999668121338,\n",
       " 2.1254045963287354,\n",
       " 2.146267890930176,\n",
       " 2.0906078815460205,\n",
       " 2.0355048179626465,\n",
       " 2.0313072204589844,\n",
       " 2.02898907661438,\n",
       " 2.029597520828247,\n",
       " 2.027207851409912,\n",
       " 2.0242228507995605,\n",
       " 2.0249338150024414,\n",
       " 2.023837089538574,\n",
       " 2.0245559215545654,\n",
       " 2.0242929458618164]"
      ]
     },
     "execution_count": 18,
     "metadata": {},
     "output_type": "execute_result"
    }
   ],
   "source": [
    "develops"
   ]
  },
  {
   "cell_type": "code",
   "execution_count": 26,
   "metadata": {},
   "outputs": [
    {
     "data": {
      "text/plain": [
       "[3.2608072757720947,\n",
       " 2.1477713584899902,\n",
       " 2.118455648422241,\n",
       " 2.105483293533325,\n",
       " 2.089350461959839,\n",
       " 2.08015775680542,\n",
       " 2.071908712387085,\n",
       " 2.059954881668091,\n",
       " 2.0626676082611084,\n",
       " 2.058481454849243,\n",
       " 2.0705559253692627,\n",
       " 2.014397144317627,\n",
       " 2.0116045475006104,\n",
       " 2.0121335983276367,\n",
       " 2.0098140239715576,\n",
       " 2.0099775791168213,\n",
       " 2.0102055072784424,\n",
       " 2.0091326236724854,\n",
       " 2.0095627307891846,\n",
       " 2.00886607170105]"
      ]
     },
     "execution_count": 26,
     "metadata": {},
     "output_type": "execute_result"
    }
   ],
   "source": [
    "develops"
   ]
  },
  {
   "cell_type": "code",
   "execution_count": 36,
   "metadata": {},
   "outputs": [
    {
     "data": {
      "text/plain": [
       "[3.278215169906616,\n",
       " 2.1494829654693604,\n",
       " 2.1075503826141357,\n",
       " 2.08491587638855,\n",
       " 2.081678628921509,\n",
       " 2.071765661239624,\n",
       " 2.063577175140381,\n",
       " 2.0609893798828125,\n",
       " 2.052854537963867,\n",
       " 2.061706781387329,\n",
       " 2.0476648807525635,\n",
       " 2.0020108222961426,\n",
       " 1.999455451965332,\n",
       " 1.9996072053909302,\n",
       " 2.000478982925415,\n",
       " 2.0001282691955566,\n",
       " 2.001126766204834,\n",
       " 1.9994657039642334,\n",
       " 1.9999414682388306,\n",
       " 2.0013375282287598]"
      ]
     },
     "execution_count": 36,
     "metadata": {},
     "output_type": "execute_result"
    }
   ],
   "source": [
    "develops"
   ]
  },
  {
   "cell_type": "code",
   "execution_count": null,
   "metadata": {},
   "outputs": [],
   "source": []
  }
 ],
 "metadata": {
  "kernelspec": {
   "display_name": "makemore_env",
   "language": "python",
   "name": "python3"
  },
  "language_info": {
   "codemirror_mode": {
    "name": "ipython",
    "version": 3
   },
   "file_extension": ".py",
   "mimetype": "text/x-python",
   "name": "python",
   "nbconvert_exporter": "python",
   "pygments_lexer": "ipython3",
   "version": "3.9.19"
  }
 },
 "nbformat": 4,
 "nbformat_minor": 2
}
