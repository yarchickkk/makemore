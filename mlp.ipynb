{
 "cells": [
  {
   "cell_type": "code",
   "execution_count": 487,
   "metadata": {},
   "outputs": [],
   "source": [
    "import torch # type: ignore\n",
    "import torch.nn.functional as F # type: ignore\n",
    "import matplotlib.pyplot as plt # type: ignore\n",
    "%matplotlib inline"
   ]
  },
  {
   "cell_type": "code",
   "execution_count": 488,
   "metadata": {},
   "outputs": [
    {
     "name": "stdout",
     "output_type": "stream",
     "text": [
      "Total amount of words: 32033\n"
     ]
    }
   ],
   "source": [
    "# Read data in a list.\n",
    "words = open('names.txt', 'r').read().splitlines()\n",
    "print(f\"Total amount of words: {len(words)}\")"
   ]
  },
  {
   "cell_type": "code",
   "execution_count": 489,
   "metadata": {},
   "outputs": [],
   "source": [
    "# Build the vocabulary of characters and mappings to/from integers.\n",
    "chars = sorted(list(set(''.join(words))))\n",
    "stoi = {ch: ix + 1 for ix, ch in enumerate(chars)}\n",
    "stoi['.'] = 0\n",
    "itos = {ix: ch for ch, ix in stoi.items()}"
   ]
  },
  {
   "cell_type": "code",
   "execution_count": 490,
   "metadata": {},
   "outputs": [],
   "source": [
    "def plot_2d_characters(C: torch.tensor, size: int = 8) -> None:\n",
    "    \"\"\"\n",
    "    Given a look-up table C of 2D character representations plot them on the grid.\n",
    "    Args:\n",
    "        C(torch.tensor, shape=[num_characters, 2]): Look-up table.\n",
    "        size(int)                                 : Size of the plot.\n",
    "    \"\"\"\n",
    "    vowels = ['a', 'e', 'i', 'o', 'u']  # list of all vowels in alphabet\n",
    "    colors = ['red' if itos[ch] in vowels else 'blue' for ch in range(C.shape[0])]  # color vowels red\n",
    "    colors[stoi['.']] = 'green'  # color '.' token green\n",
    "\n",
    "    plt.figure(figsize=(size, size))\n",
    "    plt.scatter(C[:, 0].data, C[:, 1].data, s=200, c=colors)\n",
    "    for i in range(C.shape[0]):\n",
    "        plt.text(C[i, 0].data, C[i, 1].data, itos[i], ha='center', va='center', color='white')\n",
    "    plt.grid('minor')"
   ]
  },
  {
   "cell_type": "code",
   "execution_count": 491,
   "metadata": {},
   "outputs": [],
   "source": [
    "def build_dataset(words: list[str], context_size: int = 3, logging: bool = False) -> tuple[torch.tensor]:\n",
    "    \"\"\"\n",
    "    Given an list of string words, creates input and output targets.\n",
    "    Args:\n",
    "        words(list[int], shape=[n]): List of all words to sample examples from.\n",
    "        context_size(int)          : How many characters are considered for prediction.\n",
    "        logging(bool)              : Whether to print builded examples or not.\n",
    "    Returns:\n",
    "        X(torch.tensor, shape=[m, contex size]): Input tensor, where m is number of examples.\n",
    "        Y(torch.tensor, shape=[m])             : Target tensor, where m is number of examples.\n",
    "    \"\"\"\n",
    "    X, Y = [], []\n",
    "    for word in words:\n",
    "        context = [0] * context_size\n",
    "        for ch in word + '.':\n",
    "            X.append(context)\n",
    "            Y.append(stoi[ch])\n",
    "            context = context[1:] + [stoi[ch]]\n",
    "    X, Y = torch.tensor(X), torch.tensor(Y)\n",
    "    if logging:\n",
    "        print(f'Input: {X.shape}, Output: {Y.shape}')\n",
    "    return X, Y"
   ]
  },
  {
   "cell_type": "markdown",
   "metadata": {},
   "source": [
    "---"
   ]
  },
  {
   "cell_type": "code",
   "execution_count": 663,
   "metadata": {},
   "outputs": [],
   "source": [
    "# Model's hyperparameters\n",
    "chs_amt = len(stoi)             # characters amount (27)\n",
    "repr_dim = 27                    # characters representation deimensions \n",
    "cnx_size = 3                    # contex_size / characters considered for prediction \n",
    "ipt_size = repr_dim * cnx_size  # input size of a single example\n",
    "W1_ns = 500                     # Amount of neurons in the first layer"
   ]
  },
  {
   "cell_type": "code",
   "execution_count": 664,
   "metadata": {},
   "outputs": [
    {
     "name": "stdout",
     "output_type": "stream",
     "text": [
      "Input: torch.Size([182615, 3]), Output: torch.Size([182615])\n",
      "Input: torch.Size([22831, 3]), Output: torch.Size([22831])\n",
      "Input: torch.Size([22700, 3]), Output: torch.Size([22700])\n"
     ]
    }
   ],
   "source": [
    "import random\n",
    "random.seed(13)\n",
    "random.shuffle(words)\n",
    "n1 = int(len(words) * 0.8)\n",
    "n2 = int(len(words) * 0.9)\n",
    "\n",
    "# Split data in Build, Development and Test sets.\n",
    "Xtr, Ytr = build_dataset(words[:n1], cnx_size, True)\n",
    "Xdev, Ydev = build_dataset(words[n1:n2], cnx_size, True)\n",
    "Xte, Yte = build_dataset(words[n2:], cnx_size, True)"
   ]
  },
  {
   "cell_type": "code",
   "execution_count": 665,
   "metadata": {},
   "outputs": [],
   "source": [
    "# Initialize model\n",
    "g = torch.Generator().manual_seed(13)\n",
    "C = torch.randn(size=[chs_amt, repr_dim], generator=g)\n",
    "W1 = torch.randn([ipt_size, W1_ns], generator=g)\n",
    "b1 = torch.randn([W1_ns], generator=g)\n",
    "W2 = torch.randn([W1_ns, chs_amt], generator=g) \n",
    "b2 = torch.randn([chs_amt], generator=g)\n",
    "\n",
    "parameters = [C, W1, b1, W2, b2]\n",
    "tot_prms = sum(p.nelement() for p in parameters)  # total amount of parameters in a model\n",
    "# Tell torch to compute gradients for created parameters.\n",
    "for p in parameters:\n",
    "    p.requires_grad = True"
   ]
  },
  {
   "cell_type": "code",
   "execution_count": 666,
   "metadata": {},
   "outputs": [],
   "source": [
    "\"\"\"Requires model and C-table initialization! Modifies global parameters!\"\"\"\n",
    "def forward_pass(ipt_exmps: torch.tensor, tgt_exmps: torch.tensor) -> torch.tensor:\n",
    "    \"\"\"\n",
    "    Given input parameters, input and target examples performs a forward pass and returns loss.\n",
    "    Args:\n",
    "        ipt_exmps(torch.tensor, shape=[m, ipt_size]): Input tensor, m - number of examples.\n",
    "        tgt_exmps(torch.tensor, shape=[m])          : Target tensor, m - number of examples.\n",
    "    Returns:\n",
    "        loss(torch.tensor): evaluated loss.\n",
    "    \"\"\"\n",
    "    emb = C[ipt_exmps]\n",
    "    h = torch.tanh(emb.view(-1, ipt_size) @ W1 + b1)\n",
    "    logits = h @ W2 + b2\n",
    "    loss = F.cross_entropy(logits, tgt_exmps)\n",
    "    return loss"
   ]
  },
  {
   "cell_type": "code",
   "execution_count": 667,
   "metadata": {},
   "outputs": [],
   "source": [
    "# Place for tracking:\n",
    "lri = []\n",
    "lossi = []\n",
    "stepi = []"
   ]
  },
  {
   "cell_type": "code",
   "execution_count": 668,
   "metadata": {},
   "outputs": [],
   "source": [
    "# Learning hyperparameters\n",
    "iters_num = 20000                  # number of iterations\n",
    "lr = 0.1                     # learning rate\n",
    "batch_size = 32               # size of the mini-batch\n",
    "log_loss_step = False          # pring loss at each gradient step"
   ]
  },
  {
   "cell_type": "code",
   "execution_count": 669,
   "metadata": {},
   "outputs": [],
   "source": [
    "for i in range(iters_num):\n",
    "    if (i+1) % 5000 == 0:\n",
    "        lr *= 0.6\n",
    "        batch_size = int(batch_size*1.4)\n",
    "    \n",
    "    \"\"\"Mini-batch construct\"\"\"\n",
    "    ix = torch.randint(0, Xtr.shape[0], (batch_size,))\n",
    "    \n",
    "    \"\"\"Forward pass\"\"\"\n",
    "    loss = forward_pass(Xtr[ix], Ytr[ix])\n",
    "    if log_loss_step:\n",
    "        print(loss.item())\n",
    "    \n",
    "    \"\"\"Backward pass\"\"\"\n",
    "    for p in parameters:\n",
    "        p.grad = None\n",
    "    loss.backward()\n",
    "    \n",
    "    \"\"\"Update\"\"\"\n",
    "    for p in parameters:\n",
    "        p.data += -lr * p.grad\n",
    "    \n",
    "    \"\"\"Track stats\"\"\"\n",
    "    # lri.append(lre[i])\n",
    "    lossi.append(loss.item())\n",
    "    stepi.append(i)\n"
   ]
  },
  {
   "cell_type": "code",
   "execution_count": 670,
   "metadata": {},
   "outputs": [
    {
     "data": {
      "text/plain": [
       "[<matplotlib.lines.Line2D at 0x13efc86a0>]"
      ]
     },
     "execution_count": 670,
     "metadata": {},
     "output_type": "execute_result"
    },
    {
     "data": {
      "image/png": "[encoded data removed]",
      "text/plain": [
       "<Figure size 640x480 with 1 Axes>"
      ]
     },
     "metadata": {},
     "output_type": "display_data"
    }
   ],
   "source": [
    "plt.plot(stepi, lossi)"
   ]
  },
  {
   "cell_type": "code",
   "execution_count": 671,
   "metadata": {},
   "outputs": [
    {
     "name": "stdout",
     "output_type": "stream",
     "text": [
      "train: 2.3752660751342773\n",
      "devop: 2.5527639389038086\n"
     ]
    }
   ],
   "source": [
    "train_loss = forward_pass(Xtr, Ytr)\n",
    "dev_loss = forward_pass(Xdev, Ydev)\n",
    "print(f\"train: {train_loss}\\ndevop: {dev_loss}\")"
   ]
  }
 ],
 "metadata": {
  "kernelspec": {
   "display_name": "makemore_env",
   "language": "python",
   "name": "python3"
  },
  "language_info": {
   "codemirror_mode": {
    "name": "ipython",
    "version": 3
   },
   "file_extension": ".py",
   "mimetype": "text/x-python",
   "name": "python",
   "nbconvert_exporter": "python",
   "pygments_lexer": "ipython3",
   "version": "3.9.19"
  }
 },
 "nbformat": 4,
 "nbformat_minor": 2
}
