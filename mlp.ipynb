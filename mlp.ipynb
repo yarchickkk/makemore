{
 "cells": [
  {
   "cell_type": "code",
   "execution_count": 1,
   "metadata": {},
   "outputs": [],
   "source": [
    "import torch\n",
    "import torch.nn.functional as F\n",
    "import matplotlib.pyplot as plt\n",
    "%matplotlib inline"
   ]
  },
  {
   "cell_type": "code",
   "execution_count": 2,
   "metadata": {},
   "outputs": [
    {
     "name": "stdout",
     "output_type": "stream",
     "text": [
      "Total amount of words: 32033\n"
     ]
    }
   ],
   "source": [
    "# Read data in a list.\n",
    "words = open('names.txt', 'r').read().splitlines()\n",
    "print(f\"Total amount of words: {len(words)}\")"
   ]
  },
  {
   "cell_type": "code",
   "execution_count": 3,
   "metadata": {},
   "outputs": [],
   "source": [
    "# Build the vocabulary of characters and mappings to/from integers.\n",
    "chars = sorted(list(set(''.join(words))))\n",
    "stoi = {ch: ix + 1 for ix, ch in enumerate(chars)}\n",
    "stoi['.'] = 0\n",
    "itos = {ix: ch for ch, ix in stoi.items()}"
   ]
  },
  {
   "cell_type": "code",
   "execution_count": 4,
   "metadata": {},
   "outputs": [],
   "source": [
    "def plot_2d_characters(C: torch.tensor, size: int = 8) -> None:\n",
    "    \"\"\"\n",
    "    Given a look-up table C of 2D character representations plot them on the grid.\n",
    "    Args:\n",
    "        C(torch.tensor, shape=[num_characters, 2]): Look-up table.\n",
    "        size(int)                                 : Size of the plot.\n",
    "    \"\"\"\n",
    "    vowels = ['a', 'e', 'i', 'o', 'u']  # list of all vowels in alphabet\n",
    "    colors = ['red' if itos[ch] in vowels else 'blue' for ch in range(C.shape[0])]  # color vowels red\n",
    "    colors[stoi['.']] = 'green'  # color '.' token green\n",
    "\n",
    "    plt.figure(figsize=(size, size))\n",
    "    plt.scatter(C[:, 0].data, C[:, 1].data, s=200, c=colors)\n",
    "    for i in range(C.shape[0]):\n",
    "        plt.text(C[i, 0].data, C[i, 1].data, itos[i], ha='center', va='center', color='white')\n",
    "    plt.grid('minor')"
   ]
  },
  {
   "cell_type": "code",
   "execution_count": 5,
   "metadata": {},
   "outputs": [],
   "source": [
    "def build_dataset(words: list[str], context_size: int = 3, logging: bool = False) -> tuple[torch.tensor]:\n",
    "    \"\"\"\n",
    "    Given an list of string words, creates input and output targets.\n",
    "    Args:\n",
    "        words(list[int], shape=[n]): List of all words to sample examples from.\n",
    "        context_size(int)          : How many characters are considered for prediction.\n",
    "        logging(bool)              : Whether to print builded examples or not.\n",
    "    Returns:\n",
    "        X(torch.tensor, shape=[m, contex size]): Input tensor, where m is number of examples.\n",
    "        Y(torch.tensor, shape=[m])             : Target tensor, where m is number of examples.\n",
    "    \"\"\"\n",
    "    X, Y = [], []\n",
    "    for word in words:\n",
    "        context = [0] * context_size\n",
    "        for ch in word + '.':\n",
    "            X.append(context)\n",
    "            Y.append(stoi[ch])\n",
    "            context = context[1:] + [stoi[ch]]\n",
    "    X, Y = torch.tensor(X).cuda(), torch.tensor(Y).cuda()\n",
    "    if logging:\n",
    "        print(f'Input: {X.shape}, Output: {Y.shape}')\n",
    "    return X, Y"
   ]
  },
  {
   "cell_type": "markdown",
   "metadata": {},
   "source": [
    "---"
   ]
  },
  {
   "cell_type": "code",
   "execution_count": 6,
   "metadata": {},
   "outputs": [],
   "source": [
    "# Model's hyperparameters\n",
    "chs_amt = len(stoi)             # characters amount (27)\n",
    "repr_dim = 9                    # characters representation deimensions \n",
    "cnx_size = 4                    # contex_size / characters considered for prediction \n",
    "ipt_size = repr_dim * cnx_size  # input size of a single example\n",
    "W1_ns = 250                     # Amount of neurons in the first layer"
   ]
  },
  {
   "cell_type": "code",
   "execution_count": 7,
   "metadata": {},
   "outputs": [
    {
     "name": "stdout",
     "output_type": "stream",
     "text": [
      "Input: torch.Size([182597, 4]), Output: torch.Size([182597])\n",
      "Input: torch.Size([22761, 4]), Output: torch.Size([22761])\n",
      "Input: torch.Size([22788, 4]), Output: torch.Size([22788])\n"
     ]
    }
   ],
   "source": [
    "import random\n",
    "random.seed(13)\n",
    "random.shuffle(words)\n",
    "n1 = int(len(words) * 0.8)\n",
    "n2 = int(len(words) * 0.9)\n",
    "\n",
    "# Split data in Build, Development and Test sets.\n",
    "Xtr, Ytr = build_dataset(words[:n1], cnx_size, True)\n",
    "Xdev, Ydev = build_dataset(words[n1:n2], cnx_size, True)\n",
    "Xte, Yte = build_dataset(words[n2:], cnx_size, True)"
   ]
  },
  {
   "cell_type": "code",
   "execution_count": 118,
   "metadata": {},
   "outputs": [
    {
     "data": {
      "text/plain": [
       "16270"
      ]
     },
     "execution_count": 118,
     "metadata": {},
     "output_type": "execute_result"
    }
   ],
   "source": [
    "# Initialize model\n",
    "g = torch.Generator().manual_seed(13)\n",
    "C = torch.randn(size=[chs_amt, repr_dim], generator=g).cuda()\n",
    "W1 = torch.randn([ipt_size, W1_ns], generator=g).cuda()\n",
    "b1 = torch.randn([W1_ns], generator=g).cuda()\n",
    "W2 = torch.randn([W1_ns, chs_amt], generator=g).cuda() \n",
    "b2 = torch.randn([chs_amt], generator=g).cuda()\n",
    "\n",
    "parameters = [C, W1, b1, W2, b2]\n",
    "tot_prms = sum(p.nelement() for p in parameters)  # total amount of parameters in a model\n",
    "# Tell torch to compute gradients for created parameters.\n",
    "for p in parameters:\n",
    "    p.requires_grad = True\n",
    "tot_prms"
   ]
  },
  {
   "cell_type": "code",
   "execution_count": 119,
   "metadata": {},
   "outputs": [],
   "source": [
    "\"\"\"Requires model and C-table initialization! Modifies global parameters!\"\"\"\n",
    "def forward_pass(ipt_exmps: torch.tensor, tgt_exmps: torch.tensor) -> torch.tensor:\n",
    "    \"\"\"\n",
    "    Given input parameters, input and target examples performs a forward pass and returns loss.\n",
    "    Args:\n",
    "        ipt_exmps(torch.tensor, shape=[m, ipt_size]): Input tensor, m - number of examples.\n",
    "        tgt_exmps(torch.tensor, shape=[m])          : Target tensor, m - number of examples.\n",
    "    Returns:\n",
    "        loss(torch.tensor): evaluated loss.\n",
    "    \"\"\"\n",
    "    emb = C[ipt_exmps]\n",
    "    h = torch.tanh(emb.view(-1, ipt_size) @ W1 + b1)\n",
    "    logits = h @ W2 + b2\n",
    "    loss = F.cross_entropy(logits, tgt_exmps)\n",
    "    return loss"
   ]
  },
  {
   "cell_type": "code",
   "execution_count": 120,
   "metadata": {},
   "outputs": [],
   "source": [
    "# Place for tracking:\n",
    "lri = []\n",
    "lossi = []\n",
    "stepi = []\n",
    "\n",
    "usteps = []\n",
    "trlosses = []\n",
    "devlosses = []"
   ]
  },
  {
   "cell_type": "code",
   "execution_count": 121,
   "metadata": {},
   "outputs": [],
   "source": [
    "# Learning hyperparameters\n",
    "iters_num = 100000                  # number of iterations\n",
    "lr = 0.3                     # learning rate\n",
    "batch_size = 512               # size of the mini-batch\n",
    "log_loss_step = False          # pring loss at each gradient step\n",
    "upd_step = 3000\n",
    "log_upd = True        "
   ]
  },
  {
   "cell_type": "code",
   "execution_count": 122,
   "metadata": {},
   "outputs": [
    {
     "name": "stdout",
     "output_type": "stream",
     "text": [
      "lr=0.27000 | batch_size=522 | trloss=3.08631 | devloss=3.11364\n",
      "lr=0.24300 | batch_size=532 | trloss=2.39586 | devloss=2.42938\n",
      "lr=0.21870 | batch_size=542 | trloss=2.46882 | devloss=2.50497\n",
      "lr=0.19683 | batch_size=552 | trloss=2.24777 | devloss=2.28878\n",
      "lr=0.17715 | batch_size=563 | trloss=2.23349 | devloss=2.27236\n",
      "lr=0.15943 | batch_size=574 | trloss=2.19982 | devloss=2.24441\n",
      "lr=0.14349 | batch_size=585 | trloss=2.17843 | devloss=2.22242\n",
      "lr=0.12914 | batch_size=596 | trloss=2.16974 | devloss=2.21495\n",
      "lr=0.11623 | batch_size=607 | trloss=2.15649 | devloss=2.20550\n",
      "lr=0.10460 | batch_size=619 | trloss=2.14968 | devloss=2.19834\n",
      "lr=0.09414 | batch_size=631 | trloss=2.14224 | devloss=2.19078\n",
      "lr=0.08473 | batch_size=643 | trloss=2.13622 | devloss=2.18687\n",
      "lr=0.07626 | batch_size=655 | trloss=2.12775 | devloss=2.17918\n",
      "lr=0.06863 | batch_size=668 | trloss=2.12596 | devloss=2.17691\n",
      "lr=0.06177 | batch_size=681 | trloss=2.12126 | devloss=2.17242\n",
      "lr=0.05559 | batch_size=694 | trloss=2.11859 | devloss=2.17032\n",
      "lr=0.05003 | batch_size=707 | trloss=2.11814 | devloss=2.17198\n",
      "lr=0.04503 | batch_size=721 | trloss=2.11418 | devloss=2.16761\n",
      "lr=0.04053 | batch_size=735 | trloss=2.11262 | devloss=2.16553\n",
      "lr=0.03647 | batch_size=749 | trloss=2.11088 | devloss=2.16269\n",
      "lr=0.03283 | batch_size=763 | trloss=2.11032 | devloss=2.16488\n",
      "lr=0.02954 | batch_size=778 | trloss=2.10758 | devloss=2.16175\n",
      "lr=0.02659 | batch_size=793 | trloss=2.10650 | devloss=2.16076\n",
      "lr=0.02393 | batch_size=808 | trloss=2.10422 | devloss=2.15972\n",
      "lr=0.02154 | batch_size=824 | trloss=2.10418 | devloss=2.16008\n",
      "lr=0.01938 | batch_size=840 | trloss=2.10246 | devloss=2.15894\n",
      "lr=0.01744 | batch_size=856 | trloss=2.10182 | devloss=2.15785\n",
      "lr=0.01570 | batch_size=873 | trloss=2.10155 | devloss=2.15857\n",
      "lr=0.01413 | batch_size=890 | trloss=2.10032 | devloss=2.15699\n",
      "lr=0.01272 | batch_size=907 | trloss=2.09989 | devloss=2.15593\n",
      "lr=0.01145 | batch_size=925 | trloss=2.09958 | devloss=2.15577\n",
      "lr=0.01030 | batch_size=943 | trloss=2.09900 | devloss=2.15553\n",
      "lr=0.00927 | batch_size=961 | trloss=2.09839 | devloss=2.15476\n"
     ]
    }
   ],
   "source": [
    "for i in range(iters_num):\n",
    "    if (i+1) % upd_step == 0:\n",
    "        lr *= 0.9\n",
    "        batch_size = int(batch_size*1.02)\n",
    "        trloss = forward_pass(Xtr, Ytr)\n",
    "        devloss = forward_pass(Xdev, Ydev)\n",
    "        trlosses.append(trloss)\n",
    "        devlosses.append(devloss)\n",
    "        usteps.append(i)\n",
    "        if log_upd:\n",
    "            print(f'{lr=:0.5f} | {batch_size=} | {trloss=:0.5f} | {devloss=:0.5f}')\n",
    "    \n",
    "    \"\"\"Mini-batch construct\"\"\"\n",
    "    ix = torch.randint(0, Xtr.shape[0], (batch_size,))\n",
    "    \n",
    "    \"\"\"Forward pass\"\"\"\n",
    "    loss = forward_pass(Xtr[ix], Ytr[ix])\n",
    "    if log_loss_step:\n",
    "        print(loss.item())\n",
    "    \n",
    "    \"\"\"Backward pass\"\"\"\n",
    "    for p in parameters:\n",
    "        p.grad = None\n",
    "    loss.backward()\n",
    "    \n",
    "    \"\"\"Update\"\"\"\n",
    "    for p in parameters:\n",
    "        p.data += -lr * p.grad\n",
    "    \n",
    "    \"\"\"Track stats\"\"\"\n",
    "    # lri.append(lre[i])\n",
    "    lossi.append(loss.item())\n",
    "    stepi.append(i)\n"
   ]
  },
  {
   "cell_type": "code",
   "execution_count": 123,
   "metadata": {},
   "outputs": [
    {
     "data": {
      "text/plain": [
       "[<matplotlib.lines.Line2D at 0x16521b33400>]"
      ]
     },
     "execution_count": 123,
     "metadata": {},
     "output_type": "execute_result"
    },
    {
     "data": {
      "image/png": "[encoded data removed]",
      "text/plain": [
       "<Figure size 640x480 with 1 Axes>"
      ]
     },
     "metadata": {},
     "output_type": "display_data"
    }
   ],
   "source": [
    "plt.plot(stepi, lossi)"
   ]
  },
  {
   "cell_type": "code",
   "execution_count": 124,
   "metadata": {},
   "outputs": [
    {
     "name": "stdout",
     "output_type": "stream",
     "text": [
      "train: 2.0984983444213867\n",
      "devop: 2.1546566486358643\n"
     ]
    }
   ],
   "source": [
    "train_loss = forward_pass(Xtr, Ytr)\n",
    "dev_loss = forward_pass(Xdev, Ydev)\n",
    "print(f\"train: {train_loss}\\ndevop: {dev_loss}\")"
   ]
  },
  {
   "cell_type": "code",
   "execution_count": 125,
   "metadata": {},
   "outputs": [
    {
     "data": {
      "text/plain": [
       "[<matplotlib.lines.Line2D at 0x16521e91a90>]"
      ]
     },
     "execution_count": 125,
     "metadata": {},
     "output_type": "execute_result"
    },
    {
     "data": {
      "image/png": "[encoded data removed]",
      "text/plain": [
       "<Figure size 640x480 with 1 Axes>"
      ]
     },
     "metadata": {},
     "output_type": "display_data"
    }
   ],
   "source": [
    "plt.plot(usteps, [loss.item() for loss in devlosses], c='blue')\n",
    "plt.plot(usteps, [loss.item() for loss in trlosses], c='red')"
   ]
  },
  {
   "cell_type": "code",
   "execution_count": null,
   "metadata": {},
   "outputs": [],
   "source": [
    "\"\"\"\n",
    "batch_size - makes the line less thick. Gradient steps are more percise.\n",
    "\"\"\""
   ]
  }
 ],
 "metadata": {
  "kernelspec": {
   "display_name": "makemore_env",
   "language": "python",
   "name": "python3"
  },
  "language_info": {
   "codemirror_mode": {
    "name": "ipython",
    "version": 3
   },
   "file_extension": ".py",
   "mimetype": "text/x-python",
   "name": "python",
   "nbconvert_exporter": "python",
   "pygments_lexer": "ipython3",
   "version": "3.9.19"
  }
 },
 "nbformat": 4,
 "nbformat_minor": 2
}
