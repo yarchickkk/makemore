{
 "cells": [
  {
   "cell_type": "code",
   "execution_count": 292,
   "metadata": {},
   "outputs": [],
   "source": [
    "import torch\n",
    "import torch.nn.functional as F\n",
    "import matplotlib.pyplot as plt\n",
    "%matplotlib inline"
   ]
  },
  {
   "cell_type": "code",
   "execution_count": 293,
   "metadata": {},
   "outputs": [
    {
     "name": "stdout",
     "output_type": "stream",
     "text": [
      "Total amount of words: 32033\n"
     ]
    }
   ],
   "source": [
    "# Read data in a list.\n",
    "words = open('names.txt', 'r').read().splitlines()\n",
    "print(f\"Total amount of words: {len(words)}\")"
   ]
  },
  {
   "cell_type": "code",
   "execution_count": 294,
   "metadata": {},
   "outputs": [],
   "source": [
    "# Build the vocabulary of characters and mappings to/from integers.\n",
    "chars = sorted(list(set(''.join(words))))\n",
    "stoi = {ch: ix + 1 for ix, ch in enumerate(chars)}\n",
    "stoi['.'] = 0\n",
    "itos = {ix: ch for ch, ix in stoi.items()}"
   ]
  },
  {
   "cell_type": "code",
   "execution_count": 295,
   "metadata": {},
   "outputs": [],
   "source": [
    "def plot_2d_characters(C: torch.tensor, size: int = 8) -> None:\n",
    "    \"\"\"\n",
    "    Given a look-up table C of 2D character representations plot them on the grid.\n",
    "    Args:\n",
    "        C(torch.tensor, shape=[num_characters, 2]): Look-up table.\n",
    "        size(int)                                 : Size of the plot.\n",
    "    \"\"\"\n",
    "    vowels = ['a', 'e', 'i', 'o', 'u']  # list of all vowels in alphabet\n",
    "    colors = ['red' if itos[ch] in vowels else 'blue' for ch in range(C.shape[0])]  # color vowels red\n",
    "    colors[stoi['.']] = 'green'  # color '.' token green\n",
    "\n",
    "    plt.figure(figsize=(size, size))\n",
    "    plt.scatter(C[:, 0].data, C[:, 1].data, s=200, c=colors)\n",
    "    for i in range(C.shape[0]):\n",
    "        plt.text(C[i, 0].data, C[i, 1].data, itos[i], ha='center', va='center', color='white')\n",
    "    plt.grid('minor')"
   ]
  },
  {
   "cell_type": "code",
   "execution_count": 296,
   "metadata": {},
   "outputs": [],
   "source": [
    "def build_dataset(words: list[str], context_size: int = 3, logging: bool = False) -> tuple[torch.tensor]:\n",
    "    \"\"\"\n",
    "    Given an list of string words, creates input and output targets.\n",
    "    Args:\n",
    "        words(list[int], shape=[n]): List of all words to sample examples from.\n",
    "        context_size(int)          : How many characters are considered for prediction.\n",
    "        logging(bool)              : Whether to print builded examples or not.\n",
    "    Returns:\n",
    "        X(torch.tensor, shape=[m, contex size]): Input tensor, where m is number of examples.\n",
    "        Y(torch.tensor, shape=[m])             : Target tensor, where m is number of examples.\n",
    "    \"\"\"\n",
    "    X, Y = [], []\n",
    "    for word in words:\n",
    "        context = [0] * context_size\n",
    "        for ch in word + '.':\n",
    "            X.append(context)\n",
    "            Y.append(stoi[ch])\n",
    "            context = context[1:] + [stoi[ch]]\n",
    "    X, Y = torch.tensor(X).cuda(), torch.tensor(Y).cuda()\n",
    "    if logging:\n",
    "        print(f'Input: {X.shape}, Output: {Y.shape}')\n",
    "    return X, Y"
   ]
  },
  {
   "cell_type": "markdown",
   "metadata": {},
   "source": [
    "---"
   ]
  },
  {
   "cell_type": "code",
   "execution_count": 343,
   "metadata": {},
   "outputs": [],
   "source": [
    "# Model's hyperparameters\n",
    "chs_amt = len(stoi)             # characters amount (27)\n",
    "repr_dim = 9                    # characters representation deimensions \n",
    "cnx_size = 4                    # contex_size / characters considered for prediction \n",
    "ipt_size = repr_dim * cnx_size  # input size of a single example\n",
    "W1_ns = 250                     # Amount of neurons in the first layer\n",
    "W2_ns = 300                     # Amount of neurons in the second layer"
   ]
  },
  {
   "cell_type": "code",
   "execution_count": 344,
   "metadata": {},
   "outputs": [
    {
     "name": "stdout",
     "output_type": "stream",
     "text": [
      "Input: torch.Size([182490, 4]), Output: torch.Size([182490])\n",
      "Input: torch.Size([22807, 4]), Output: torch.Size([22807])\n",
      "Input: torch.Size([22849, 4]), Output: torch.Size([22849])\n"
     ]
    }
   ],
   "source": [
    "import random\n",
    "random.seed(13)\n",
    "random.shuffle(words)\n",
    "n1 = int(len(words) * 0.8)\n",
    "n2 = int(len(words) * 0.9)\n",
    "\n",
    "# Split data in Build, Development and Test sets.\n",
    "Xtr, Ytr = build_dataset(words[:n1], cnx_size, True)\n",
    "Xdev, Ydev = build_dataset(words[n1:n2], cnx_size, True)\n",
    "Xte, Yte = build_dataset(words[n2:], cnx_size, True)"
   ]
  },
  {
   "cell_type": "code",
   "execution_count": 345,
   "metadata": {},
   "outputs": [
    {
     "name": "stdout",
     "output_type": "stream",
     "text": [
      "92920\n"
     ]
    },
    {
     "data": {
      "text/plain": [
       "[torch.Size([27, 9]),\n",
       " torch.Size([36, 250]),\n",
       " torch.Size([250]),\n",
       " torch.Size([250, 300]),\n",
       " torch.Size([300]),\n",
       " torch.Size([300, 27]),\n",
       " torch.Size([27])]"
      ]
     },
     "execution_count": 345,
     "metadata": {},
     "output_type": "execute_result"
    }
   ],
   "source": [
    "# Initialize model\n",
    "g = torch.Generator().manual_seed(13)\n",
    "C = torch.randn(size=[chs_amt, repr_dim], generator=g).cuda()\n",
    "W1 = torch.randn([ipt_size, W1_ns], generator=g).cuda()\n",
    "b1 = torch.randn([W1_ns], generator=g).cuda()\n",
    "\n",
    "W2 = torch.randn([W1_ns, W2_ns], generator=g).cuda() \n",
    "b2 = torch.randn([W2_ns], generator=g).cuda()\n",
    "\n",
    "W3 = torch.randn([W2_ns, chs_amt], generator=g).cuda() \n",
    "b3 = torch.randn([chs_amt], generator=g).cuda()\n",
    "\n",
    "parameters = [C, W1, b1, W2, b2, W3, b3]\n",
    "tot_prms = sum(p.nelement() for p in parameters)  # total amount of parameters in a model\n",
    "# Tell torch to compute gradients for created parameters.\n",
    "for p in parameters:\n",
    "    p.requires_grad = True\n",
    "print(tot_prms)\n",
    "[p.shape for p in parameters]"
   ]
  },
  {
   "cell_type": "code",
   "execution_count": 346,
   "metadata": {},
   "outputs": [],
   "source": [
    "\"\"\"Requires model and C-table initialization! Modifies global parameters!\"\"\"\n",
    "def forward_pass(ipt_exmps: torch.tensor, tgt_exmps: torch.tensor) -> torch.tensor:\n",
    "    \"\"\"\n",
    "    Given input parameters, input and target examples performs a forward pass and returns loss.\n",
    "    Args:\n",
    "        ipt_exmps(torch.tensor, shape=[m, ipt_size]): Input tensor, m - number of examples.\n",
    "        tgt_exmps(torch.tensor, shape=[m])          : Target tensor, m - number of examples.\n",
    "    Returns:\n",
    "        loss(torch.tensor): evaluated loss.\n",
    "    \"\"\"\n",
    "    emb = C[ipt_exmps]\n",
    "    out1 = torch.tanh(emb.view(-1, ipt_size) @ W1 + b1)\n",
    "    out2 = torch.tanh(out1 @ W2 + b2)\n",
    "    logits = out2 @ W3 + b3\n",
    "    loss = F.cross_entropy(logits, tgt_exmps)\n",
    "    return loss"
   ]
  },
  {
   "cell_type": "code",
   "execution_count": 347,
   "metadata": {},
   "outputs": [],
   "source": [
    "# Place for tracking:\n",
    "lri = []\n",
    "lossi = []\n",
    "stepi = []\n",
    "\n",
    "usteps = []\n",
    "trlosses = []\n",
    "devlosses = []"
   ]
  },
  {
   "cell_type": "code",
   "execution_count": 348,
   "metadata": {},
   "outputs": [],
   "source": [
    "# Learning hyperparameters\n",
    "iters_num = 200000                  # number of iterations\n",
    "lr = 0.3                     # learning rate\n",
    "batch_size = 512               # size of the mini-batch\n",
    "log_loss_step = False          # pring loss at each gradient step\n",
    "upd_step = 3000\n",
    "log_upd = True        "
   ]
  },
  {
   "cell_type": "code",
   "execution_count": 349,
   "metadata": {},
   "outputs": [
    {
     "name": "stdout",
     "output_type": "stream",
     "text": [
      "i=2999 | lr=0.27000 | batch_size=522 | trloss=4.07605 | devloss=4.18892\n",
      "i=5999 | lr=0.24300 | batch_size=532 | trloss=3.67418 | devloss=3.81899\n",
      "i=8999 | lr=0.21870 | batch_size=542 | trloss=2.72758 | devloss=2.88935\n",
      "i=11999 | lr=0.19683 | batch_size=552 | trloss=2.69192 | devloss=2.87046\n",
      "i=14999 | lr=0.17715 | batch_size=563 | trloss=2.21515 | devloss=2.41138\n",
      "i=17999 | lr=0.15943 | batch_size=574 | trloss=2.28702 | devloss=2.48809\n",
      "i=20999 | lr=0.14349 | batch_size=585 | trloss=2.14284 | devloss=2.34848\n",
      "i=23999 | lr=0.12914 | batch_size=596 | trloss=2.14557 | devloss=2.35760\n",
      "i=26999 | lr=0.11623 | batch_size=607 | trloss=2.13640 | devloss=2.35113\n",
      "i=29999 | lr=0.10460 | batch_size=619 | trloss=2.10952 | devloss=2.32339\n",
      "i=32999 | lr=0.09414 | batch_size=631 | trloss=2.08955 | devloss=2.30829\n",
      "i=35999 | lr=0.08473 | batch_size=643 | trloss=2.07257 | devloss=2.29430\n",
      "i=38999 | lr=0.07626 | batch_size=655 | trloss=2.06537 | devloss=2.28990\n",
      "i=41999 | lr=0.06863 | batch_size=668 | trloss=2.05913 | devloss=2.28492\n",
      "i=44999 | lr=0.06177 | batch_size=681 | trloss=2.05274 | devloss=2.28236\n",
      "i=47999 | lr=0.05559 | batch_size=694 | trloss=2.04910 | devloss=2.27811\n",
      "i=50999 | lr=0.05003 | batch_size=707 | trloss=2.04717 | devloss=2.27861\n",
      "i=53999 | lr=0.04503 | batch_size=721 | trloss=2.04380 | devloss=2.27662\n",
      "i=56999 | lr=0.04053 | batch_size=735 | trloss=2.03865 | devloss=2.27293\n",
      "i=59999 | lr=0.03647 | batch_size=749 | trloss=2.03714 | devloss=2.27319\n",
      "i=62999 | lr=0.03283 | batch_size=763 | trloss=2.03475 | devloss=2.27145\n",
      "i=65999 | lr=0.02954 | batch_size=778 | trloss=2.03250 | devloss=2.26960\n",
      "i=68999 | lr=0.02659 | batch_size=793 | trloss=2.03117 | devloss=2.26870\n",
      "i=71999 | lr=0.02393 | batch_size=808 | trloss=2.02945 | devloss=2.26814\n",
      "i=74999 | lr=0.02154 | batch_size=824 | trloss=2.02926 | devloss=2.26800\n",
      "i=77999 | lr=0.01938 | batch_size=840 | trloss=2.02702 | devloss=2.26670\n",
      "i=80999 | lr=0.01744 | batch_size=856 | trloss=2.02566 | devloss=2.26491\n",
      "i=83999 | lr=0.01570 | batch_size=873 | trloss=2.02474 | devloss=2.26462\n",
      "i=86999 | lr=0.01413 | batch_size=890 | trloss=2.02419 | devloss=2.26544\n",
      "i=89999 | lr=0.01272 | batch_size=907 | trloss=2.02310 | devloss=2.26458\n",
      "i=92999 | lr=0.01145 | batch_size=925 | trloss=2.02224 | devloss=2.26420\n",
      "i=95999 | lr=0.01030 | batch_size=943 | trloss=2.02169 | devloss=2.26367\n",
      "i=98999 | lr=0.00927 | batch_size=961 | trloss=2.02111 | devloss=2.26315\n",
      "i=101999 | lr=0.00834 | batch_size=980 | trloss=2.02112 | devloss=2.26359\n",
      "i=104999 | lr=0.00751 | batch_size=999 | trloss=2.02017 | devloss=2.26235\n",
      "i=107999 | lr=0.00676 | batch_size=1018 | trloss=2.01978 | devloss=2.26232\n",
      "i=110999 | lr=0.00608 | batch_size=1024 | trloss=2.01929 | devloss=2.26203\n",
      "i=113999 | lr=0.00547 | batch_size=1024 | trloss=2.01907 | devloss=2.26190\n",
      "i=116999 | lr=0.00493 | batch_size=1024 | trloss=2.01885 | devloss=2.26226\n",
      "i=119999 | lr=0.00443 | batch_size=1024 | trloss=2.01853 | devloss=2.26201\n",
      "i=122999 | lr=0.00399 | batch_size=1024 | trloss=2.01837 | devloss=2.26197\n",
      "i=125999 | lr=0.00359 | batch_size=1024 | trloss=2.01812 | devloss=2.26167\n",
      "i=128999 | lr=0.00323 | batch_size=1024 | trloss=2.01803 | devloss=2.26153\n",
      "i=131999 | lr=0.00291 | batch_size=1024 | trloss=2.01782 | devloss=2.26189\n",
      "i=134999 | lr=0.00262 | batch_size=1024 | trloss=2.01767 | devloss=2.26174\n",
      "i=137999 | lr=0.00236 | batch_size=1024 | trloss=2.01756 | devloss=2.26178\n",
      "i=140999 | lr=0.00212 | batch_size=1024 | trloss=2.01743 | devloss=2.26159\n",
      "i=143999 | lr=0.00191 | batch_size=1024 | trloss=2.01737 | devloss=2.26131\n",
      "i=146999 | lr=0.00172 | batch_size=1024 | trloss=2.01722 | devloss=2.26132\n",
      "i=149999 | lr=0.00155 | batch_size=1024 | trloss=2.01725 | devloss=2.26169\n",
      "i=152999 | lr=0.00139 | batch_size=1024 | trloss=2.01706 | devloss=2.26123\n",
      "i=155999 | lr=0.00125 | batch_size=1024 | trloss=2.01700 | devloss=2.26131\n",
      "i=158999 | lr=0.00113 | batch_size=1024 | trloss=2.01695 | devloss=2.26143\n",
      "i=161999 | lr=0.00101 | batch_size=1024 | trloss=2.01691 | devloss=2.26116\n",
      "i=164999 | lr=0.00091 | batch_size=1024 | trloss=2.01685 | devloss=2.26121\n",
      "i=167999 | lr=0.00082 | batch_size=1024 | trloss=2.01682 | devloss=2.26155\n",
      "i=170999 | lr=0.00074 | batch_size=1024 | trloss=2.01677 | devloss=2.26105\n",
      "i=173999 | lr=0.00067 | batch_size=1024 | trloss=2.01672 | devloss=2.26131\n",
      "i=176999 | lr=0.00060 | batch_size=1024 | trloss=2.01669 | devloss=2.26132\n",
      "i=179999 | lr=0.00054 | batch_size=1024 | trloss=2.01666 | devloss=2.26122\n",
      "i=182999 | lr=0.00049 | batch_size=1024 | trloss=2.01664 | devloss=2.26135\n",
      "i=185999 | lr=0.00044 | batch_size=1024 | trloss=2.01661 | devloss=2.26117\n",
      "i=188999 | lr=0.00039 | batch_size=1024 | trloss=2.01660 | devloss=2.26125\n",
      "i=191999 | lr=0.00035 | batch_size=1024 | trloss=2.01658 | devloss=2.26104\n",
      "i=194999 | lr=0.00032 | batch_size=1024 | trloss=2.01655 | devloss=2.26106\n",
      "i=197999 | lr=0.00029 | batch_size=1024 | trloss=2.01654 | devloss=2.26108\n"
     ]
    }
   ],
   "source": [
    "for i in range(iters_num):\n",
    "    if (i+1) % upd_step == 0:\n",
    "        lr *= 0.9\n",
    "        # Limit learning rate decrease\n",
    "        if lr < 0.0001:\n",
    "            lr = 0.0001\n",
    "\n",
    "        batch_size = int(batch_size*1.02)\n",
    "        # Limit batch size growth\n",
    "        if batch_size > 1024:\n",
    "            batch_size = 1024\n",
    "\n",
    "        trloss = forward_pass(Xtr, Ytr)\n",
    "        devloss = forward_pass(Xdev, Ydev)\n",
    "        trlosses.append(trloss)\n",
    "        devlosses.append(devloss)\n",
    "        usteps.append(i)\n",
    "        if log_upd:\n",
    "            print(f'{i=} | {lr=:0.5f} | {batch_size=} | {trloss=:0.5f} | {devloss=:0.5f}')\n",
    "    \n",
    "    \"\"\"Mini-batch construct\"\"\"\n",
    "    ix = torch.randint(0, Xtr.shape[0], (batch_size,))\n",
    "    \n",
    "    \"\"\"Forward pass\"\"\"\n",
    "    loss = forward_pass(Xtr[ix], Ytr[ix])\n",
    "    if log_loss_step:\n",
    "        print(loss.item())\n",
    "    \n",
    "    \"\"\"Backward pass\"\"\"\n",
    "    for p in parameters:\n",
    "        p.grad = None\n",
    "    loss.backward()\n",
    "    \n",
    "    \"\"\"Update\"\"\"\n",
    "    for p in parameters:\n",
    "        p.data += -lr * p.grad\n",
    "    \n",
    "    \"\"\"Track stats\"\"\"\n",
    "    # lri.append(lre[i])\n",
    "    lossi.append(loss.item())\n",
    "    stepi.append(i)\n"
   ]
  },
  {
   "cell_type": "code",
   "execution_count": 352,
   "metadata": {},
   "outputs": [
    {
     "data": {
      "text/plain": [
       "[<matplotlib.lines.Line2D at 0x1a996518d30>]"
      ]
     },
     "execution_count": 352,
     "metadata": {},
     "output_type": "execute_result"
    },
    {
     "data": {
      "image/png": "[encoded data removed]",
      "text/plain": [
       "<Figure size 640x480 with 1 Axes>"
      ]
     },
     "metadata": {},
     "output_type": "display_data"
    }
   ],
   "source": [
    "plt.plot(stepi, lossi)"
   ]
  },
  {
   "cell_type": "code",
   "execution_count": 353,
   "metadata": {},
   "outputs": [
    {
     "name": "stdout",
     "output_type": "stream",
     "text": [
      "train: 2.0165367126464844\n",
      "devop: 2.2611048221588135\n"
     ]
    }
   ],
   "source": [
    "train_loss = forward_pass(Xtr, Ytr)\n",
    "dev_loss = forward_pass(Xdev, Ydev)\n",
    "print(f\"train: {train_loss}\\ndevop: {dev_loss}\")"
   ]
  },
  {
   "cell_type": "code",
   "execution_count": 354,
   "metadata": {},
   "outputs": [
    {
     "name": "stdout",
     "output_type": "stream",
     "text": [
      "66 66\n"
     ]
    },
    {
     "data": {
      "text/plain": [
       "[<matplotlib.lines.Line2D at 0x1a5e731cbe0>]"
      ]
     },
     "execution_count": 354,
     "metadata": {},
     "output_type": "execute_result"
    },
    {
     "data": {
      "image/png": "[encoded data removed]",
      "text/plain": [
       "<Figure size 640x480 with 1 Axes>"
      ]
     },
     "metadata": {},
     "output_type": "display_data"
    }
   ],
   "source": [
    "print(len(devlosses), len(trlosses))\n",
    "plt.plot(usteps, [loss.item() for loss in devlosses], c='blue')\n",
    "plt.plot(usteps, [loss.item() for loss in trlosses], c='red')"
   ]
  },
  {
   "cell_type": "code",
   "execution_count": 405,
   "metadata": {},
   "outputs": [
    {
     "data": {
      "text/plain": [
       "['moan',\n",
       " 'naiden',\n",
       " 'colay',\n",
       " 'emmilo',\n",
       " 'grontae',\n",
       " 'zeniih',\n",
       " 'bowkuureh',\n",
       " 'ambor',\n",
       " 'dhoyk',\n",
       " 'rhy',\n",
       " 'lozamvortoos',\n",
       " 'calal',\n",
       " 'rerismoni',\n",
       " 'zanobia',\n",
       " 'anton',\n",
       " 'maksil',\n",
       " 'itha',\n",
       " 'ujuy',\n",
       " 'inia',\n",
       " 'neinah',\n",
       " 'jelaiah',\n",
       " 'janine',\n",
       " 'jaynie',\n",
       " 'frer',\n",
       " 'fryc',\n",
       " 'ayri',\n",
       " 'phan',\n",
       " 'eryal',\n",
       " 'papi',\n",
       " 'dada',\n",
       " 'jeiina',\n",
       " 'aung',\n",
       " 'carhavi',\n",
       " 'ryytrahamira',\n",
       " 'raryiah',\n",
       " 'arma',\n",
       " 'hlakii',\n",
       " 'yahahrol',\n",
       " 'lyne',\n",
       " 'kayghvika',\n",
       " 'pashalipiji',\n",
       " 'aver',\n",
       " 'aved',\n",
       " 'nyas',\n",
       " 'sosroas',\n",
       " 'sivion',\n",
       " 'sesealo',\n",
       " 'darelyn',\n",
       " 'ayran',\n",
       " 'giag',\n",
       " 'nalvin',\n",
       " 'jickeeni',\n",
       " 'lora',\n",
       " 'iviya',\n",
       " 'tinley',\n",
       " 'mirco',\n",
       " 'ayra',\n",
       " 'lura',\n",
       " 'amalodreru',\n",
       " 'merius',\n",
       " 'chombree',\n",
       " 'adariono',\n",
       " 'olipalla',\n",
       " 'cosemissak',\n",
       " 'hana',\n",
       " 'sela',\n",
       " 'zona',\n",
       " 'brea',\n",
       " 'taka',\n",
       " 'anna',\n",
       " 'ometana',\n",
       " 'mamad',\n",
       " 'aviley',\n",
       " 'anasea',\n",
       " 'raylinna',\n",
       " 'mamoor',\n",
       " 'tracianna',\n",
       " 'almare',\n",
       " 'fryleenye',\n",
       " 'ayhca',\n",
       " 'ammiy',\n",
       " 'thoytendi',\n",
       " 'tweilemeni',\n",
       " 'kaeeh',\n",
       " 'jadiso',\n",
       " 'keyven',\n",
       " 'amai',\n",
       " 'kaqonillawyn',\n",
       " 'arnin',\n",
       " 'maanang',\n",
       " 'kyhalrhonie',\n",
       " 'wedie',\n",
       " 'rifina',\n",
       " 'grayliyah',\n",
       " 'chanslee',\n",
       " 'tali',\n",
       " 'isdinkwadario',\n",
       " 'rayhan',\n",
       " 'abreal',\n",
       " 'ruue']"
      ]
     },
     "execution_count": 405,
     "metadata": {},
     "output_type": "execute_result"
    }
   ],
   "source": [
    "# Sampling from the model!\n",
    "cudag = torch.Generator(device='cuda').manual_seed(13)\n",
    "samples = []\n",
    "num_samples = 100\n",
    "for i in range(num_samples):\n",
    "    context = [0] * cnx_size\n",
    "    sample = ''\n",
    "    while True:\n",
    "        x = C[context].view(-1, cnx_size * repr_dim)\n",
    "        out1 = torch.tanh(x @ W1 + b1)\n",
    "        out2 = torch.tanh(out1 @ W2 + b2)\n",
    "        logits = out2 @ W3 + b3\n",
    "        counts = torch.exp(logits)\n",
    "        probs = counts / torch.sum(counts)\n",
    "        guess = torch.multinomial(probs, 1, True, generator=cudag).item()\n",
    "        sample += itos[guess]\n",
    "        context = context[1:] + [guess]\n",
    "        if guess == 0:\n",
    "            break\n",
    "    samples.append(sample[:-1])\n",
    "\n",
    "samples\n"
   ]
  },
  {
   "cell_type": "code",
   "execution_count": null,
   "metadata": {},
   "outputs": [],
   "source": []
  }
 ],
 "metadata": {
  "kernelspec": {
   "display_name": "makemore_env",
   "language": "python",
   "name": "python3"
  },
  "language_info": {
   "codemirror_mode": {
    "name": "ipython",
    "version": 3
   },
   "file_extension": ".py",
   "mimetype": "text/x-python",
   "name": "python",
   "nbconvert_exporter": "python",
   "pygments_lexer": "ipython3",
   "version": "3.9.19"
  }
 },
 "nbformat": 4,
 "nbformat_minor": 2
}
