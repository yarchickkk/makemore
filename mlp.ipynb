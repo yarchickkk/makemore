{
 "cells": [
  {
   "cell_type": "code",
   "execution_count": 313,
   "metadata": {},
   "outputs": [],
   "source": [
    "import torch\n",
    "import torch.nn.functional as F\n",
    "import matplotlib.pyplot as plt\n",
    "%matplotlib inline"
   ]
  },
  {
   "cell_type": "code",
   "execution_count": 314,
   "metadata": {},
   "outputs": [
    {
     "name": "stdout",
     "output_type": "stream",
     "text": [
      "Total amount of words: 32033\n"
     ]
    }
   ],
   "source": [
    "# Read data in a list.\n",
    "words = open('names.txt', 'r').read().splitlines()\n",
    "print(f\"Total amount of words: {len(words)}\")"
   ]
  },
  {
   "cell_type": "code",
   "execution_count": 315,
   "metadata": {},
   "outputs": [],
   "source": [
    "# Build the vocabulary of characters and mappings to/from integers.\n",
    "chars = sorted(list(set(''.join(words))))\n",
    "stoi = {ch: ix + 1 for ix, ch in enumerate(chars)}\n",
    "stoi['.'] = 0\n",
    "itos = {ix: ch for ch, ix in stoi.items()}"
   ]
  },
  {
   "cell_type": "code",
   "execution_count": 316,
   "metadata": {},
   "outputs": [],
   "source": [
    "def plot_2d_characters(C: torch.tensor, size: int = 8) -> None:\n",
    "    \"\"\"\n",
    "    Given a look-up table C of 2D character representations plot them on the grid.\n",
    "    Args:\n",
    "        C(torch.tensor, shape=[num_characters, 2]): Look-up table.\n",
    "        size(int)                                 : Size of the plot.\n",
    "    \"\"\"\n",
    "    vowels = ['a', 'e', 'i', 'o', 'u']  # list of all vowels in alphabet\n",
    "    colors = ['red' if itos[ch] in vowels else 'blue' for ch in range(C.shape[0])]  # color vowels red\n",
    "    colors[stoi['.']] = 'green'  # color '.' token green\n",
    "\n",
    "    plt.figure(figsize=(size, size))\n",
    "    plt.scatter(C[:, 0].data, C[:, 1].data, s=200, c=colors)\n",
    "    for i in range(C.shape[0]):\n",
    "        plt.text(C[i, 0].data, C[i, 1].data, itos[i], ha='center', va='center', color='white')\n",
    "    plt.grid('minor')"
   ]
  },
  {
   "cell_type": "code",
   "execution_count": 317,
   "metadata": {},
   "outputs": [],
   "source": [
    "def build_dataset(words: list[str], context_size: int = 3, logging: bool = False) -> tuple[torch.tensor]:\n",
    "    \"\"\"\n",
    "    Given an list of string words, creates input and output targets.\n",
    "    Args:\n",
    "        words(list[int], shape=[n]): List of all words to sample examples from.\n",
    "        context_size(int)          : How many characters are considered for prediction.\n",
    "        logging(bool)              : Whether to print builded examples or not.\n",
    "    Returns:\n",
    "        X(torch.tensor, shape=[m, contex size]): Input tensor, where m is number of examples.\n",
    "        Y(torch.tensor, shape=[m])             : Target tensor, where m is number of examples.\n",
    "    \"\"\"\n",
    "    X, Y = [], []\n",
    "    for word in words:\n",
    "        context = [0] * context_size\n",
    "        for ch in word + '.':\n",
    "            X.append(context)\n",
    "            Y.append(stoi[ch])\n",
    "            context = context[1:] + [stoi[ch]]\n",
    "    X, Y = torch.tensor(X).cuda(), torch.tensor(Y).cuda()\n",
    "    if logging:\n",
    "        print(f'Input: {X.shape}, Output: {Y.shape}')\n",
    "    return X, Y"
   ]
  },
  {
   "cell_type": "markdown",
   "metadata": {},
   "source": [
    "---"
   ]
  },
  {
   "cell_type": "code",
   "execution_count": 358,
   "metadata": {},
   "outputs": [],
   "source": [
    "# Model's hyperparameters\n",
    "chs_amt = len(stoi)             # characters amount (27)\n",
    "repr_dim = 10                    # characters representation deimensions \n",
    "cnx_size = 4                    # contex_size / characters considered for prediction \n",
    "ipt_size = repr_dim * cnx_size  # input size of a single example\n",
    "W1_ns = 100                     # Amount of neurons in the first layer\n",
    "W2_ns = 100                     # Amount of neurons in the second layer"
   ]
  },
  {
   "cell_type": "code",
   "execution_count": 359,
   "metadata": {},
   "outputs": [
    {
     "name": "stdout",
     "output_type": "stream",
     "text": [
      "Input: torch.Size([182719, 4]), Output: torch.Size([182719])\n",
      "Input: torch.Size([22686, 4]), Output: torch.Size([22686])\n",
      "Input: torch.Size([22741, 4]), Output: torch.Size([22741])\n"
     ]
    }
   ],
   "source": [
    "import random\n",
    "random.seed(13)\n",
    "random.shuffle(words)\n",
    "n1 = int(len(words) * 0.8)\n",
    "n2 = int(len(words) * 0.9)\n",
    "\n",
    "# Split data in Build, Development and Test sets.\n",
    "Xtr, Ytr = build_dataset(words[:n1], cnx_size, True)\n",
    "Xdev, Ydev = build_dataset(words[n1:n2], cnx_size, True)\n",
    "Xte, Yte = build_dataset(words[n2:], cnx_size, True)"
   ]
  },
  {
   "cell_type": "code",
   "execution_count": 360,
   "metadata": {},
   "outputs": [
    {
     "name": "stdout",
     "output_type": "stream",
     "text": [
      "17197\n"
     ]
    },
    {
     "data": {
      "text/plain": [
       "[torch.Size([27, 10]),\n",
       " torch.Size([40, 100]),\n",
       " torch.Size([100]),\n",
       " torch.Size([100, 100]),\n",
       " torch.Size([100]),\n",
       " torch.Size([100, 27]),\n",
       " torch.Size([27])]"
      ]
     },
     "execution_count": 360,
     "metadata": {},
     "output_type": "execute_result"
    }
   ],
   "source": [
    "# Initialize model\n",
    "g = torch.Generator().manual_seed(13)\n",
    "C = torch.randn(size=[chs_amt, repr_dim], generator=g).cuda()\n",
    "W1 = torch.randn([ipt_size, W1_ns], generator=g).cuda()\n",
    "b1 = torch.randn([W1_ns], generator=g).cuda()\n",
    "\n",
    "W2 = torch.randn([W1_ns, W2_ns], generator=g).cuda() \n",
    "b2 = torch.randn([W2_ns], generator=g).cuda()\n",
    "\n",
    "W3 = torch.randn([W2_ns, chs_amt], generator=g).cuda() \n",
    "b3 = torch.randn([chs_amt], generator=g).cuda()\n",
    "\n",
    "parameters = [C, W1, b1, W2, b2, W3, b3]\n",
    "tot_prms = sum(p.nelement() for p in parameters)  # total amount of parameters in a model\n",
    "total_ws = sum(w.nelement() for w in [W1, W2, W3])  # total amount of W parameters in a model\n",
    "# Tell torch to compute gradients for created parameters.\n",
    "for p in parameters:\n",
    "    p.requires_grad = True\n",
    "print(tot_prms)\n",
    "[p.shape for p in parameters]"
   ]
  },
  {
   "cell_type": "code",
   "execution_count": 361,
   "metadata": {},
   "outputs": [],
   "source": [
    "\"\"\"Requires model and C-table initialization! Modifies global parameters!\"\"\"\n",
    "def forward_pass(ipt_exmps: torch.tensor, tgt_exmps: torch.tensor) -> torch.tensor:\n",
    "    \"\"\"\n",
    "    Given input parameters, input and target examples performs a forward pass and returns loss.\n",
    "    Args:\n",
    "        ipt_exmps(torch.tensor, shape=[m, ipt_size]): Input tensor, m - number of examples.\n",
    "        tgt_exmps(torch.tensor, shape=[m])          : Target tensor, m - number of examples.\n",
    "    Returns:\n",
    "        loss(torch.tensor): evaluated loss.\n",
    "    \"\"\"\n",
    "    emb = C[ipt_exmps]\n",
    "    out1 = torch.tanh(emb.view(-1, ipt_size) @ W1 + b1)\n",
    "    out2 = torch.tanh(out1 @ W2 + b2)\n",
    "    logits = out2 @ W3 + b3\n",
    "\n",
    "    reg = (((W1**2).sum() + (W2**2).sum() + (W3**2).sum()) / total_ws)\n",
    "    \n",
    "    loss = F.cross_entropy(logits, tgt_exmps) + 0.75 * reg\n",
    "    return loss"
   ]
  },
  {
   "cell_type": "code",
   "execution_count": 362,
   "metadata": {},
   "outputs": [],
   "source": [
    "# Place for tracking:\n",
    "lri = []\n",
    "lossi = []\n",
    "stepi = []\n",
    "\n",
    "usteps = []\n",
    "trlosses = []\n",
    "devlosses = []"
   ]
  },
  {
   "cell_type": "code",
   "execution_count": 363,
   "metadata": {},
   "outputs": [],
   "source": [
    "# Learning hyperparameters\n",
    "iters_num = 200000                 # number of iterations\n",
    "lr = 0.1                     # learning rate\n",
    "batch_size = 32               # size of the mini-batch\n",
    "log_loss_step = False          # pring loss at each gradient step\n",
    "upd_step = 3000\n",
    "log_upd = True        "
   ]
  },
  {
   "cell_type": "code",
   "execution_count": 364,
   "metadata": {},
   "outputs": [
    {
     "name": "stdout",
     "output_type": "stream",
     "text": [
      "i=2999 | lr=0.09700 | batch_size=32 | trloss=3.23540 | devloss=3.23184\n",
      "i=5999 | lr=0.09409 | batch_size=32 | trloss=3.19487 | devloss=3.18877\n",
      "i=8999 | lr=0.09127 | batch_size=32 | trloss=3.06958 | devloss=3.07002\n",
      "i=11999 | lr=0.08853 | batch_size=32 | trloss=3.02948 | devloss=3.03319\n",
      "i=14999 | lr=0.08587 | batch_size=32 | trloss=3.01492 | devloss=3.01994\n",
      "i=17999 | lr=0.08330 | batch_size=32 | trloss=2.93374 | devloss=2.94009\n",
      "i=20999 | lr=0.08080 | batch_size=32 | trloss=2.92839 | devloss=2.93643\n",
      "i=23999 | lr=0.07837 | batch_size=32 | trloss=2.85952 | devloss=2.86634\n",
      "i=26999 | lr=0.07602 | batch_size=32 | trloss=2.85725 | devloss=2.86925\n",
      "i=29999 | lr=0.07374 | batch_size=32 | trloss=2.80220 | devloss=2.80880\n",
      "i=32999 | lr=0.07153 | batch_size=32 | trloss=2.81528 | devloss=2.82311\n",
      "i=35999 | lr=0.06938 | batch_size=32 | trloss=2.74709 | devloss=2.75939\n",
      "i=38999 | lr=0.06730 | batch_size=32 | trloss=2.83164 | devloss=2.84192\n",
      "i=41999 | lr=0.06528 | batch_size=32 | trloss=2.70569 | devloss=2.71310\n",
      "i=44999 | lr=0.06333 | batch_size=32 | trloss=2.71407 | devloss=2.72331\n",
      "i=47999 | lr=0.06143 | batch_size=32 | trloss=2.69832 | devloss=2.70828\n",
      "i=50999 | lr=0.05958 | batch_size=32 | trloss=2.71871 | devloss=2.73109\n",
      "i=53999 | lr=0.05780 | batch_size=32 | trloss=2.65038 | devloss=2.66343\n",
      "i=56999 | lr=0.05606 | batch_size=32 | trloss=2.66089 | devloss=2.66779\n",
      "i=59999 | lr=0.05438 | batch_size=32 | trloss=2.62561 | devloss=2.63952\n",
      "i=62999 | lr=0.05275 | batch_size=32 | trloss=2.60156 | devloss=2.61566\n",
      "i=65999 | lr=0.05117 | batch_size=32 | trloss=2.60103 | devloss=2.61464\n",
      "i=68999 | lr=0.04963 | batch_size=32 | trloss=2.57450 | devloss=2.58773\n",
      "i=71999 | lr=0.04814 | batch_size=32 | trloss=2.58680 | devloss=2.60262\n",
      "i=74999 | lr=0.04670 | batch_size=32 | trloss=2.58221 | devloss=2.59572\n",
      "i=77999 | lr=0.04530 | batch_size=32 | trloss=2.54413 | devloss=2.56116\n",
      "i=80999 | lr=0.04394 | batch_size=32 | trloss=2.54794 | devloss=2.56352\n",
      "i=83999 | lr=0.04262 | batch_size=32 | trloss=2.52332 | devloss=2.54007\n",
      "i=86999 | lr=0.04134 | batch_size=32 | trloss=2.51080 | devloss=2.52660\n",
      "i=89999 | lr=0.04010 | batch_size=32 | trloss=2.49497 | devloss=2.51105\n",
      "i=92999 | lr=0.03890 | batch_size=32 | trloss=2.49668 | devloss=2.51249\n",
      "i=95999 | lr=0.03773 | batch_size=32 | trloss=2.48658 | devloss=2.50466\n",
      "i=98999 | lr=0.03660 | batch_size=32 | trloss=2.49077 | devloss=2.51113\n",
      "i=101999 | lr=0.03550 | batch_size=32 | trloss=2.47494 | devloss=2.49440\n",
      "i=104999 | lr=0.03444 | batch_size=32 | trloss=2.47224 | devloss=2.49180\n",
      "i=107999 | lr=0.03340 | batch_size=32 | trloss=2.46431 | devloss=2.48464\n",
      "i=110999 | lr=0.03240 | batch_size=32 | trloss=2.46307 | devloss=2.47970\n",
      "i=113999 | lr=0.03143 | batch_size=32 | trloss=2.44112 | devloss=2.46043\n",
      "i=116999 | lr=0.03049 | batch_size=32 | trloss=2.44577 | devloss=2.46507\n",
      "i=119999 | lr=0.02957 | batch_size=32 | trloss=2.44161 | devloss=2.46334\n",
      "i=122999 | lr=0.02868 | batch_size=32 | trloss=2.45963 | devloss=2.47726\n",
      "i=125999 | lr=0.02782 | batch_size=32 | trloss=2.43018 | devloss=2.45024\n",
      "i=128999 | lr=0.02699 | batch_size=32 | trloss=2.42643 | devloss=2.44727\n",
      "i=131999 | lr=0.02618 | batch_size=32 | trloss=2.43683 | devloss=2.45492\n",
      "i=134999 | lr=0.02539 | batch_size=32 | trloss=2.43054 | devloss=2.45049\n",
      "i=137999 | lr=0.02463 | batch_size=32 | trloss=2.40834 | devloss=2.42847\n",
      "i=140999 | lr=0.02389 | batch_size=32 | trloss=2.40978 | devloss=2.43127\n",
      "i=143999 | lr=0.02318 | batch_size=32 | trloss=2.39909 | devloss=2.41891\n",
      "i=146999 | lr=0.02248 | batch_size=32 | trloss=2.41262 | devloss=2.43525\n",
      "i=149999 | lr=0.02181 | batch_size=32 | trloss=2.39385 | devloss=2.41398\n",
      "i=152999 | lr=0.02115 | batch_size=32 | trloss=2.38708 | devloss=2.40890\n",
      "i=155999 | lr=0.02052 | batch_size=32 | trloss=2.38758 | devloss=2.41074\n",
      "i=158999 | lr=0.01990 | batch_size=32 | trloss=2.37867 | devloss=2.40188\n",
      "i=161999 | lr=0.01931 | batch_size=32 | trloss=2.37959 | devloss=2.40332\n",
      "i=164999 | lr=0.01873 | batch_size=32 | trloss=2.38186 | devloss=2.40452\n",
      "i=167999 | lr=0.01816 | batch_size=32 | trloss=2.37394 | devloss=2.39537\n",
      "i=170999 | lr=0.01762 | batch_size=32 | trloss=2.36450 | devloss=2.38914\n",
      "i=173999 | lr=0.01709 | batch_size=32 | trloss=2.36760 | devloss=2.39113\n",
      "i=176999 | lr=0.01658 | batch_size=32 | trloss=2.36412 | devloss=2.38795\n",
      "i=179999 | lr=0.01608 | batch_size=32 | trloss=2.36013 | devloss=2.38440\n",
      "i=182999 | lr=0.01560 | batch_size=32 | trloss=2.35712 | devloss=2.38116\n",
      "i=185999 | lr=0.01513 | batch_size=32 | trloss=2.35246 | devloss=2.37670\n",
      "i=188999 | lr=0.01468 | batch_size=32 | trloss=2.34991 | devloss=2.37537\n",
      "i=191999 | lr=0.01424 | batch_size=32 | trloss=2.35591 | devloss=2.38107\n",
      "i=194999 | lr=0.01381 | batch_size=32 | trloss=2.34541 | devloss=2.36947\n",
      "i=197999 | lr=0.01339 | batch_size=32 | trloss=2.34890 | devloss=2.37309\n"
     ]
    }
   ],
   "source": [
    "for i in range(iters_num):\n",
    "    if (i+1) % upd_step == 0:\n",
    "        lr *= 0.97\n",
    "        # Limit learning rate decrease\n",
    "        if lr < 0.0001:\n",
    "            lr = 0.0001\n",
    "\n",
    "        batch_size = int(batch_size*1.02)\n",
    "        # Limit batch size growth\n",
    "        if batch_size > 1024:\n",
    "            batch_size = 1024\n",
    "\n",
    "        trloss = forward_pass(Xtr, Ytr)\n",
    "        devloss = forward_pass(Xdev, Ydev)\n",
    "        trlosses.append(trloss)\n",
    "        devlosses.append(devloss)\n",
    "        usteps.append(i)\n",
    "        if log_upd:\n",
    "            print(f'{i=} | {lr=:0.5f} | {batch_size=} | {trloss=:0.5f} | {devloss=:0.5f}')\n",
    "    \n",
    "    \"\"\"Mini-batch construct\"\"\"\n",
    "    ix = torch.randint(0, Xtr.shape[0], (batch_size,))\n",
    "    \n",
    "    \"\"\"Forward pass\"\"\"\n",
    "    loss = forward_pass(Xtr[ix], Ytr[ix])\n",
    "    if log_loss_step:\n",
    "        print(loss.item())\n",
    "    \n",
    "    \"\"\"Backward pass\"\"\"\n",
    "    for p in parameters:\n",
    "        p.grad = None\n",
    "    loss.backward()\n",
    "    \n",
    "    \"\"\"Update\"\"\"\n",
    "    for p in parameters:\n",
    "        p.data += -lr * p.grad\n",
    "    \n",
    "    \"\"\"Track stats\"\"\"\n",
    "    # lri.append(lre[i])\n",
    "    lossi.append(loss.item())\n",
    "    stepi.append(i)\n"
   ]
  },
  {
   "cell_type": "code",
   "execution_count": 365,
   "metadata": {},
   "outputs": [
    {
     "data": {
      "text/plain": [
       "[<matplotlib.lines.Line2D at 0x1c01b426970>]"
      ]
     },
     "execution_count": 365,
     "metadata": {},
     "output_type": "execute_result"
    },
    {
     "data": {
      "image/png": "[encoded data removed]",
      "text/plain": [
       "<Figure size 640x480 with 1 Axes>"
      ]
     },
     "metadata": {},
     "output_type": "display_data"
    }
   ],
   "source": [
    "plt.plot(stepi, lossi)"
   ]
  },
  {
   "cell_type": "code",
   "execution_count": 371,
   "metadata": {},
   "outputs": [
    {
     "name": "stdout",
     "output_type": "stream",
     "text": [
      "train: 2.185429096221924\n",
      "devop: 2.2088942527770996\n"
     ]
    }
   ],
   "source": [
    "train_loss = forward_pass(Xtr, Ytr) - (((W1**2).sum() + (W2**2).sum() + (W3**2).sum()) / total_ws) * 0.75\n",
    "dev_loss = forward_pass(Xdev, Ydev) - (((W1**2).sum() + (W2**2).sum() + (W3**2).sum()) / total_ws) * 0.75\n",
    "print(f\"train: {train_loss}\\ndevop: {dev_loss}\")"
   ]
  },
  {
   "cell_type": "code",
   "execution_count": 369,
   "metadata": {},
   "outputs": [
    {
     "data": {
      "text/plain": [
       "[<matplotlib.lines.Line2D at 0x1c0244e7100>]"
      ]
     },
     "execution_count": 369,
     "metadata": {},
     "output_type": "execute_result"
    },
    {
     "data": {
      "image/png": "[encoded data removed]",
      "text/plain": [
       "<Figure size 640x480 with 1 Axes>"
      ]
     },
     "metadata": {},
     "output_type": "display_data"
    }
   ],
   "source": [
    "plt.plot(usteps, [loss.item() for loss in devlosses], c='blue')\n",
    "plt.plot(usteps, [loss.item() for loss in trlosses], c='red')"
   ]
  },
  {
   "cell_type": "code",
   "execution_count": 370,
   "metadata": {},
   "outputs": [
    {
     "data": {
      "text/plain": [
       "['morrin',\n",
       " 'mafi',\n",
       " 'hola',\n",
       " 'kemmi',\n",
       " 'saghon',\n",
       " 'auaz',\n",
       " 'jomy',\n",
       " 'bewbatte',\n",
       " 'rambhovince',\n",
       " 'hahc',\n",
       " 'losqunky',\n",
       " 'oooy',\n",
       " 'jenliston',\n",
       " 'mona',\n",
       " 'zanolin',\n",
       " 'arari',\n",
       " 'maksay',\n",
       " 'kishauj',\n",
       " 'jainia',\n",
       " 'nainah',\n",
       " 'jella',\n",
       " 'hilen',\n",
       " 'mephan',\n",
       " 'korfin',\n",
       " 'afrrynn',\n",
       " 'tylen',\n",
       " 'naeryna',\n",
       " 'paidjeren',\n",
       " 'jefiya',\n",
       " 'aunganan',\n",
       " 'bemariyah',\n",
       " 'abunia',\n",
       " 'rary',\n",
       " 'jose',\n",
       " 'maghlloya',\n",
       " 'yahah',\n",
       " 'manlyn',\n",
       " 'mane',\n",
       " 'milya',\n",
       " 'pasbusta',\n",
       " 'zari',\n",
       " 'mara',\n",
       " 'edli',\n",
       " 'jisson',\n",
       " 'rahis',\n",
       " 'amoymsekecle',\n",
       " 'darelsarayana',\n",
       " 'glandy',\n",
       " 'dvie',\n",
       " 'jicielniy',\n",
       " 'maroiri',\n",
       " 'hani',\n",
       " 'loy',\n",
       " 'myra',\n",
       " 'yoyda',\n",
       " 'luan',\n",
       " 'amalandtue',\n",
       " 'kenis',\n",
       " 'jahson',\n",
       " 'alevestiano',\n",
       " 'olip',\n",
       " 'leztel',\n",
       " 'jiis',\n",
       " 'aki',\n",
       " 'analie',\n",
       " 'aszon',\n",
       " 'namaa',\n",
       " 'taka',\n",
       " 'amilaon',\n",
       " 'mahalia',\n",
       " 'meka',\n",
       " 'jana',\n",
       " 'anarey',\n",
       " 'raylinn',\n",
       " 'anam',\n",
       " 'aret',\n",
       " 'ralandah',\n",
       " 'amari',\n",
       " 'frylah',\n",
       " 'yuvann',\n",
       " 'acam',\n",
       " 'likt',\n",
       " 'vityadi',\n",
       " 'trek',\n",
       " 'tmeni',\n",
       " 'kaelia',\n",
       " 'navua',\n",
       " 'keyvam',\n",
       " 'awaine',\n",
       " 'bondin',\n",
       " 'wyna',\n",
       " 'ronni',\n",
       " 'aanan',\n",
       " 'rhylalra',\n",
       " 'jain',\n",
       " 'caseanna',\n",
       " 'namur',\n",
       " 'yariah',\n",
       " 'chan',\n",
       " 'kyan']"
      ]
     },
     "execution_count": 370,
     "metadata": {},
     "output_type": "execute_result"
    }
   ],
   "source": [
    "# Sampling from the model!\n",
    "cudag = torch.Generator(device='cuda').manual_seed(13)\n",
    "samples = []\n",
    "num_samples = 100\n",
    "for i in range(num_samples):\n",
    "    context = [0] * cnx_size\n",
    "    sample = ''\n",
    "    while True:\n",
    "        x = C[context].view(-1, cnx_size * repr_dim)\n",
    "        out1 = torch.tanh(x @ W1 + b1)\n",
    "        out2 = torch.tanh(out1 @ W2 + b2)\n",
    "        logits = out2 @ W3 + b3\n",
    "        counts = torch.exp(logits)\n",
    "        probs = counts / torch.sum(counts)\n",
    "        guess = torch.multinomial(probs, 1, True, generator=cudag).item()\n",
    "        sample += itos[guess]\n",
    "        context = context[1:] + [guess]\n",
    "        if guess == 0:\n",
    "            break\n",
    "    samples.append(sample[:-1])\n",
    "\n",
    "samples\n"
   ]
  },
  {
   "cell_type": "code",
   "execution_count": null,
   "metadata": {},
   "outputs": [],
   "source": []
  }
 ],
 "metadata": {
  "kernelspec": {
   "display_name": "makemore_env",
   "language": "python",
   "name": "python3"
  },
  "language_info": {
   "codemirror_mode": {
    "name": "ipython",
    "version": 3
   },
   "file_extension": ".py",
   "mimetype": "text/x-python",
   "name": "python",
   "nbconvert_exporter": "python",
   "pygments_lexer": "ipython3",
   "version": "3.9.19"
  }
 },
 "nbformat": 4,
 "nbformat_minor": 2
}
