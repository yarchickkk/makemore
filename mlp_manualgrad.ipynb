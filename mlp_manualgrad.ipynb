{
 "cells": [
  {
   "cell_type": "code",
   "execution_count": 1,
   "metadata": {},
   "outputs": [],
   "source": [
    "import torch\n",
    "import torch.nn.functional as F\n",
    "import matplotlib.pyplot as plt\n",
    "%matplotlib inline"
   ]
  },
  {
   "cell_type": "code",
   "execution_count": 2,
   "metadata": {},
   "outputs": [
    {
     "name": "stdout",
     "output_type": "stream",
     "text": [
      "Total amount of words: 32033\n"
     ]
    }
   ],
   "source": [
    "# Read in all the words.\n",
    "words = open('names.txt', 'r').read().splitlines()\n",
    "print(f\"Total amount of words: {len(words)}\")"
   ]
  },
  {
   "cell_type": "code",
   "execution_count": 3,
   "metadata": {},
   "outputs": [
    {
     "name": "stdout",
     "output_type": "stream",
     "text": [
      "Vocabulary size: 27\n"
     ]
    }
   ],
   "source": [
    "# Build the vocabulary of characters and mappings to/from integers.\n",
    "chars = sorted(list(set(''.join(words))))\n",
    "stoi = {ch: ix + 1 for ix, ch in enumerate(chars)}\n",
    "stoi['.'] = 0\n",
    "itos = {ix: ch for ch, ix in stoi.items()}\n",
    "vocab_size = len(itos)\n",
    "print(f\"Vocabulary size: {vocab_size}\")"
   ]
  },
  {
   "cell_type": "code",
   "execution_count": 4,
   "metadata": {},
   "outputs": [],
   "source": [
    "def build_dataset(words: list[str], context_size: int = 3, logging: bool = False) -> tuple[torch.tensor]:\n",
    "    \"\"\"\n",
    "    Given an list of string words, creates input and output targets.\n",
    "    Args:\n",
    "        words(list[int], shape=[n]): List of all words to sample examples from.\n",
    "        context_size(int)          : How many characters are considered for prediction.\n",
    "        logging(bool)              : Whether to print builded examples or not.\n",
    "    Returns:\n",
    "        X(torch.tensor, shape=[m, contex size]): Input tensor, where m is number of examples.\n",
    "        Y(torch.tensor, shape=[m])             : Target tensor, where m is number of examples.\n",
    "    \"\"\"\n",
    "    X, Y = [], []\n",
    "    for word in words:\n",
    "        context = [0] * context_size\n",
    "        for ch in word + '.':\n",
    "            X.append(context)\n",
    "            Y.append(stoi[ch])\n",
    "            context = context[1:] + [stoi[ch]]\n",
    "    X, Y = torch.tensor(X), torch.tensor(Y)\n",
    "    if logging:\n",
    "        print(f'Input: {X.shape}, Output: {Y.shape}')\n",
    "    return X, Y\n"
   ]
  },
  {
   "cell_type": "code",
   "execution_count": 5,
   "metadata": {},
   "outputs": [
    {
     "name": "stdout",
     "output_type": "stream",
     "text": [
      "Input: torch.Size([182597, 3]), Output: torch.Size([182597])\n",
      "Input: torch.Size([22761, 3]), Output: torch.Size([22761])\n",
      "Input: torch.Size([22788, 3]), Output: torch.Size([22788])\n"
     ]
    }
   ],
   "source": [
    "import random\n",
    "random.seed(13)\n",
    "random.shuffle(words)\n",
    "n1 = int(len(words) * 0.8)\n",
    "n2 = int(len(words) * 0.9)\n",
    "\n",
    "\n",
    "block_size = 3  # how many charecters do we take to predict the next one?\n",
    "Xtr, Ytr = build_dataset(words[:n1], block_size, True)     # 80%\n",
    "Xdev, Ydev = build_dataset(words[n1:n2], block_size, True) # 10%\n",
    "Xte, Yte = build_dataset(words[n2:], block_size, True)     # 10%"
   ]
  },
  {
   "cell_type": "code",
   "execution_count": 6,
   "metadata": {},
   "outputs": [],
   "source": [
    "# ok biorplate done, now let's get to the action"
   ]
  },
  {
   "cell_type": "code",
   "execution_count": 7,
   "metadata": {},
   "outputs": [],
   "source": [
    "# utility function we will use later when comparing manual gradients to PyTorch gradients.\n",
    "def cmp(s: str, dt: torch.tensor, t: torch.tensor) -> None:\n",
    "    \"\"\"\n",
    "    Args:\n",
    "        s (str)          : Name of parameter, derivatives were computed with rescpect to.\n",
    "        dt (torch.tensor): Derivative, computed by hand.\n",
    "        t (torch.tensor) : Derivative, computed by Torch.\n",
    "    \"\"\"\n",
    "    ex = torch.all(dt == t.grad).item()\n",
    "    app = torch.allclose(dt, t.grad)\n",
    "    maxdiff = (dt - t.grad).abs().max().item()\n",
    "    print(f'{s:15s} | exact: {str(ex):5s} | approximate: {str(app):5s} | maxdiff: {maxdiff}')"
   ]
  },
  {
   "cell_type": "code",
   "execution_count": 31,
   "metadata": {},
   "outputs": [
    {
     "name": "stdout",
     "output_type": "stream",
     "text": [
      "Total parametrs: 12297\n"
     ]
    }
   ],
   "source": [
    "n_embd = 10  # the dimensionality of the character embedding vectors\n",
    "n_hidden = 200  # the number of neurons in the hidden layer of the MLP\n",
    "\n",
    "g = torch.Generator().manual_seed(2147483647)\n",
    "C = torch.randn((vocab_size, n_embd),             generator=g)\n",
    "# Layer 1\n",
    "W1 = torch.randn([n_embd * block_size, n_hidden], generator=g) * (5/3) / (n_embd * block_size)**0.5\n",
    "b1 = torch.randn(n_hidden,                        generator=g) * 0.1  # using just for fun\n",
    "# Layer 2\n",
    "W2 = torch.randn((n_hidden, vocab_size),          generator=g) * 0.1\n",
    "b2 = torch.randn(vocab_size,                      generator=g) * 0.1\n",
    "# BatchNorm parameters\n",
    "bngain = torch.randn((1, n_hidden)) * 0.1\n",
    "bnbias = torch.randn((1, n_hidden)) * 0.1\n",
    "# Note: I'm initializing many of these parameters in non-standart ways \n",
    "# so as nothing could mask an incorrect implementation of backward pass\n",
    "\n",
    "parameters = [C, W1, b1, W2, b2, bngain, bnbias]\n",
    "print(\"Total parametrs:\", sum(p.nelement() for p in parameters))  # number of parameters in total\n",
    "for p in parameters:\n",
    "    p.requires_grad = True"
   ]
  },
  {
   "cell_type": "code",
   "execution_count": 9,
   "metadata": {},
   "outputs": [],
   "source": [
    "batch_size = 32\n",
    "n = batch_size  # shorter variable also, for convenience\n",
    "# Construct a minibatch\n",
    "ix = torch.randint(0, Xtr.shape[0], (batch_size,), generator=g)\n",
    "Xb, Yb = Xtr[ix], Ytr[ix]  # batch X, Y"
   ]
  },
  {
   "cell_type": "code",
   "execution_count": 22,
   "metadata": {},
   "outputs": [
    {
     "data": {
      "text/plain": [
       "tensor(3.2769, grad_fn=<NegBackward0>)"
      ]
     },
     "execution_count": 22,
     "metadata": {},
     "output_type": "execute_result"
    }
   ],
   "source": [
    "# Forward pass\n",
    "emb = C[Xb]\n",
    "embcat = emb.view(emb.shape[0], -1)\n",
    "# Linear layer 1\n",
    "hprebn = embcat @ W1 + b1\n",
    "# BatchNorm Layer\n",
    "bnmeani = 1/n * hprebn.sum(0, keepdim=True)\n",
    "bndiff = hprebn - bnmeani\n",
    "bndiff2 = bndiff**2\n",
    "bnvar = 1/(n-1) * bndiff2.sum(0, keepdim=True)  # Note: Bessel's correction (dividing by n-1, not n)\n",
    "bnvar_inv = (bnvar + 1e-5)**-0.5\n",
    "bnraw = bndiff * bnvar_inv\n",
    "hpreact = bngain * bnraw + bnbias\n",
    "# Non-linearity\n",
    "h = torch.tanh(hpreact)\n",
    "# Linear layer 2\n",
    "logits = h @ W2 + b2\n",
    "# cross entropy loss\n",
    "logit_maxes = logits.max(1, keepdim=True).values  # exclude gradients\n",
    "norm_logits = logits - logit_maxes\n",
    "counts = norm_logits.exp()\n",
    "counts_sum = counts.sum(1, keepdim=True)\n",
    "counts_sum_inv = counts_sum**-1\n",
    "probs = counts * counts_sum_inv\n",
    "logprobs = probs.log()\n",
    "loss = -logprobs[range(n), Yb].mean()\n",
    "\n",
    "# PyTorch backward pass\n",
    "for p in parameters:\n",
    "    p.grad = None\n",
    "for t in [logprobs, probs, counts, counts_sum, counts_sum_inv, \n",
    "          norm_logits, logit_maxes, logits, h, hpreact, bnraw,\n",
    "          bnvar_inv, bnvar, bndiff2, bndiff, hprebn, bnmeani, \n",
    "          embcat, emb]:\n",
    "    t.retain_grad()\n",
    "loss.backward()\n",
    "loss"
   ]
  },
  {
   "cell_type": "code",
   "execution_count": 12,
   "metadata": {},
   "outputs": [],
   "source": [
    "# --- CrossEntropy ---\n",
    "dlogprobs = torch.zeros_like(logprobs)\n",
    "dlogprobs[range(n), Yb] = -1/n\n",
    "# ---\n",
    "dprobs = (1.0 / probs) * dlogprobs\n",
    "# ---\n",
    "dcounts = dprobs * counts_sum_inv                            # init \"counts\" gradient\n",
    "# ---\n",
    "dcounts_sum_inv = dprobs * counts\n",
    "dcounts_sum_inv = dcounts_sum_inv.sum(1, keepdim=True)\n",
    "# ---\n",
    "dcounts_sum = dcounts_sum_inv * (-1 * counts_sum**-2)\n",
    "# ---\n",
    "dcounts += dcounts_sum * torch.ones(batch_size, vocab_size)  # add \"conunts\" gradient\n",
    "# ---\n",
    "dnorm_logits = dcounts * counts\n",
    "# ---\n",
    "dlogits = dnorm_logits.clone()                               # init \"logits\" gradient\n",
    "dlogit_maxes = -dnorm_logits.sum(1, keepdim=True)\n",
    "# ---\n",
    "ix = torch.argmax(logits, 1)\n",
    "dlogits[range(n), ix] += dlogit_maxes.view(-1)               # add \"logits\" gradient\n",
    "# --- Forward Pass ---\n",
    "dh = dlogits @ W2.T\n",
    "dW2 = h.T @ dlogits\n",
    "db2 = dlogits.sum(0)\n",
    "# ---\n",
    "dhpreact = dh * (1 - h**2)\n",
    "# ---\n",
    "dbngain = (bnraw * dhpreact).sum(0, keepdim=True)\n",
    "dbnraw = dhpreact * bngain\n",
    "dbnbias = (dhpreact).sum(0, keepdim=True)\n",
    "# ---\n",
    "dbnvar_inv = (bndiff * dbnraw).sum(0, keepdim=True)\n",
    "dbndiff = dbnraw * bnvar_inv                               # init \"bndiff\" grad\n",
    "# ---\n",
    "dbnvar = dbnvar_inv * -1/2 * (bnvar + 1e-5)**(-3/2)\n",
    "dbndiff2 = (dbnvar * (1/(n-1))).expand(n, n_hidden)\n",
    "dbndiff += 2 * bndiff * dbndiff2                           # add \"bndiff\" grad\n",
    "# ---\n",
    "dhprebn = dbndiff.clone()  # deepcopy                      # init \"hprebn\" grad\n",
    "dbnmeani = -dbndiff.sum(0, keepdim=True)\n",
    "# ---\n",
    "dhprebn += (dbnmeani * 1/n).expand(n, n_hidden)            # add \"hprebn\" grad\n",
    "# ---\n",
    "dembcat = dhprebn @ W1.T\n",
    "dW1 = embcat.T @ dhprebn\n",
    "db1 = dhprebn.sum(0) # AFTER_DEBUG: require gradient for b1 pls!!! Unable to compare\n",
    "# ---\n",
    "demb = dembcat.view(emb.shape[0], block_size, n_embd)\n",
    "# ---\n",
    "dC = torch.zeros_like(C)\n",
    "for k, row in enumerate(Xb):\n",
    "    for j, ix in enumerate(row):\n",
    "        dC[ix] += demb[k, j]"
   ]
  },
  {
   "cell_type": "code",
   "execution_count": 13,
   "metadata": {},
   "outputs": [
    {
     "name": "stdout",
     "output_type": "stream",
     "text": [
      "C               | exact: True  | approximate: True  | maxdiff: 0.0\n"
     ]
    }
   ],
   "source": [
    "cmp('C', dC, C)"
   ]
  },
  {
   "cell_type": "code",
   "execution_count": 14,
   "metadata": {},
   "outputs": [
    {
     "name": "stdout",
     "output_type": "stream",
     "text": [
      "                | exact: False | approximate: True  | maxdiff: 5.3551048040390015e-09\n"
     ]
    }
   ],
   "source": [
    "alt_dlogits = F.softmax(logits, 1) \n",
    "alt_dlogits[range(n), Yb] -= 1.0\n",
    "alt_dlogits /= n\n",
    "cmp('', alt_dlogits, logits)"
   ]
  },
  {
   "cell_type": "code",
   "execution_count": 18,
   "metadata": {},
   "outputs": [],
   "source": [
    "dhprebn = bngain * bnvar_inv / n * (n * dhpreact - dhpreact.sum(0) - n / (n - 1) * bnraw * (bnraw * dhpreact).sum(0))"
   ]
  },
  {
   "cell_type": "code",
   "execution_count": 19,
   "metadata": {},
   "outputs": [
    {
     "name": "stdout",
     "output_type": "stream",
     "text": [
      "hprebn          | exact: False | approximate: True  | maxdiff: 2.3283064365386963e-10\n"
     ]
    }
   ],
   "source": [
    "cmp('hprebn', dhprebn, hprebn)"
   ]
  },
  {
   "cell_type": "code",
   "execution_count": 33,
   "metadata": {},
   "outputs": [
    {
     "name": "stdout",
     "output_type": "stream",
     "text": [
      "      0/ 200000: 3.2965\n",
      "  10000/ 200000: 2.2476\n",
      "  20000/ 200000: 1.9275\n",
      "  30000/ 200000: 2.6641\n",
      "  40000/ 200000: 2.4417\n",
      "  50000/ 200000: 2.2880\n",
      "  60000/ 200000: 2.0486\n",
      "  70000/ 200000: 2.1531\n",
      "  80000/ 200000: 2.3181\n",
      "  90000/ 200000: 2.1601\n",
      " 100000/ 200000: 2.2190\n",
      " 110000/ 200000: 2.2769\n",
      " 120000/ 200000: 2.1896\n",
      " 130000/ 200000: 1.6163\n",
      " 140000/ 200000: 2.0624\n",
      " 150000/ 200000: 1.8632\n",
      " 160000/ 200000: 2.4450\n",
      " 170000/ 200000: 2.3920\n",
      " 180000/ 200000: 2.6192\n",
      " 190000/ 200000: 2.2125\n"
     ]
    }
   ],
   "source": [
    "max_steps = 200000\n",
    "batch_size = 32\n",
    "lossi = []\n",
    "\n",
    "for i in range(max_steps):\n",
    "    \n",
    "    \"\"\"Mini-batch construct\"\"\"\n",
    "    ix = torch.randint(0, Xtr.shape[0], (batch_size,))\n",
    "    Xb, Yb = Xtr[ix], Ytr[ix]  # batch X, Y\n",
    "    # forward pass\n",
    "    emb = C[Xb] # embed the characters into vectors\n",
    "    embcat = emb.view(emb.shape[0], -1) # concatenate the vectors\n",
    "    # Linear layer\n",
    "    hprebn = embcat @ W1 + b1 # hidden layer pre-activation\n",
    "    # BatchNorm layer\n",
    "    # -------------------------------------------------------------\n",
    "    bnmean = hprebn.mean(0, keepdim=True)\n",
    "    bnvar = hprebn.var(0, keepdim=True, unbiased=True)\n",
    "    bnvar_inv = (bnvar + 1e-5)**-0.5\n",
    "    bnraw = (hprebn - bnmean) * bnvar_inv\n",
    "    hpreact = bngain * bnraw + bnbias\n",
    "    # -------------------------------------------------------------\n",
    "    # Non-linearity\n",
    "    h = torch.tanh(hpreact) # hidden layer\n",
    "    logits = h @ W2 + b2 # output layer\n",
    "    loss = F.cross_entropy(logits, Yb) # loss function    \n",
    "    \"\"\"Backward pass\"\"\"\n",
    "    for p in parameters:\n",
    "        p.grad = None\n",
    "    # loss.backward()  # old way\n",
    "    # --- new way---\n",
    "    # Cross-entropy\n",
    "    dlogits = F.softmax(logits, 1) \n",
    "    dlogits[range(n), Yb] -= 1.0\n",
    "    dlogits /= n\n",
    "    # 2-nd layer \n",
    "    dh = dlogits @ W2.T\n",
    "    dW2 = h.T @ dlogits\n",
    "    db2 = dlogits.sum(0)\n",
    "    # Tanh()\n",
    "    dhpreact = dh * (1 - h**2)\n",
    "    # BatchNorm layer\n",
    "    dbngain = (bnraw * dhpreact).sum(0, keepdim=True)\n",
    "    dbnraw = dhpreact * bngain\n",
    "    dbnbias = (dhpreact).sum(0, keepdim=True)\n",
    "    dhprebn = bngain * bnvar_inv / n * (n * dhpreact - dhpreact.sum(0) - n / (n - 1) * bnraw * (bnraw * dhpreact).sum(0))\n",
    "    # 1-st layer\n",
    "    dembcat = dhprebn @ W1.T\n",
    "    dW1 = embcat.T @ dhprebn\n",
    "    db1 = dhprebn.sum(0)\n",
    "    # Embedding\n",
    "    demb = dembcat.view(emb.shape[0], block_size, n_embd)\n",
    "    \n",
    "    dC = torch.zeros_like(C)\n",
    "    for k, row in enumerate(Xb):\n",
    "        for j, ix in enumerate(row):\n",
    "            dC[ix] += demb[k, j]\n",
    "    # Save computed grads\n",
    "    grads = [dC, dW1, db1, dW2, db2, dbngain, dbnbias]\n",
    "    \"\"\"Update\"\"\"\n",
    "    lr = 0.1 if i < 100000 else 0.01  # learning step decay\n",
    "    for p, grad in zip(parameters, grads):\n",
    "        # p.data += -lr * p.grad  # old way\n",
    "        p.data += -lr * grad  # manual way\n",
    "    \n",
    "    \"\"\"Track stats\"\"\"\n",
    "    if i % 10000 == 0:\n",
    "        print(f\"{i:7d}/{max_steps:7d}: {loss.item():.4f}\")\n",
    "    lossi.append(loss.log10().item())\n",
    "\n",
    "    # if i > 100:\n",
    "    #     break"
   ]
  },
  {
   "cell_type": "code",
   "execution_count": 23,
   "metadata": {},
   "outputs": [
    {
     "name": "stdout",
     "output_type": "stream",
     "text": [
      "(27, 10)        | exact: False | approximate: True  | maxdiff: 1.5832483768463135e-08\n",
      "(30, 200)       | exact: False | approximate: True  | maxdiff: 1.1175870895385742e-08\n",
      "(200,)          | exact: False | approximate: True  | maxdiff: 6.51925802230835e-09\n",
      "(200, 27)       | exact: False | approximate: True  | maxdiff: 1.4901161193847656e-08\n",
      "(27,)           | exact: False | approximate: True  | maxdiff: 7.450580596923828e-09\n",
      "(1, 200)        | exact: False | approximate: True  | maxdiff: 5.587935447692871e-09\n",
      "(1, 200)        | exact: False | approximate: True  | maxdiff: 7.450580596923828e-09\n"
     ]
    }
   ],
   "source": [
    "for p, g in zip(parameters, grads):\n",
    "    cmp(str(tuple(p.shape)), g, p)"
   ]
  },
  {
   "cell_type": "code",
   "execution_count": 24,
   "metadata": {},
   "outputs": [],
   "source": [
    "with torch.no_grad():\n",
    "    # Pass the training set through\n",
    "    emb = C[Xtr]\n",
    "    embcat = emb.view(emb.shape[0], -1)\n",
    "    hpreact = embcat @ W1# + b1\n",
    "    # Measure mean/std over the entire training set (get constant values for single example evaluation)\n",
    "    bnmean = hpreact.mean(0, keepdim=True)\n",
    "    bnstd = hpreact.std(0, keepdim=True)"
   ]
  },
  {
   "cell_type": "code",
   "execution_count": 25,
   "metadata": {},
   "outputs": [
    {
     "name": "stdout",
     "output_type": "stream",
     "text": [
      "jamelle.\n",
      "jlaryamiviyah.\n",
      "brair.\n",
      "haz.\n",
      "maxeliaantrivo.\n",
      "elianovan.\n",
      "elanya.\n",
      "ashna.\n",
      "aur.\n",
      "brextlyn.\n",
      "sharson.\n",
      "novan.\n",
      "maledslee.\n",
      "jodumaasikalarlin.\n",
      "laz.\n",
      "haisheer.\n",
      "sareldance.\n",
      "zazar.\n",
      "kan.\n",
      "grey.\n"
     ]
    }
   ],
   "source": [
    "# Sample from the model.\n",
    "g = torch.Generator().manual_seed(13 + 10)\n",
    "for _ in range (20):\n",
    "    out = []\n",
    "    context = [0] * block_size # initialize with all ...\n",
    "    while True:\n",
    "        # forward pass the neural net\n",
    "        emb = C[torch.tensor([context])] # (1, block_size, n_embd)\n",
    "        hpreact = emb.view(1, -1) @ W1\n",
    "        hpreact = bngain * (hpreact - bnmean) / bnstd + bnbias\n",
    "        h = torch.tanh(hpreact)\n",
    "        logits = h @ W2 + b2\n",
    "        probs = F.softmax(logits, dim=1)\n",
    "        # sample from the distribution\n",
    "        ix = torch.multinomial(probs, num_samples=1, generator=g).item()\n",
    "        # shift the context window and track the samples\n",
    "        context = context[1:] + [ix]\n",
    "        out.append(ix)\n",
    "        # if we sample the special '' token, break\n",
    "        if ix == 0:\n",
    "            break\n",
    "    print(\"\".join(itos[i] for i in out)) # decode and print the generated word"
   ]
  },
  {
   "cell_type": "code",
   "execution_count": 29,
   "metadata": {},
   "outputs": [],
   "source": [
    "Xb, Yb = Xdev, Ydev  # batch X, Y\n",
    "# forward pass\n",
    "emb = C[Xb] # embed the characters into vectors\n",
    "embcat = emb.view(emb.shape[0], -1) # concatenate the vectors\n",
    "# Linear layer\n",
    "hprebn = embcat @ W1 + b1 # hidden layer pre-activation\n",
    "# BatchNorm layer\n",
    "# -------------------------------------------------------------\n",
    "bnmean = hprebn.mean(0, keepdim=True)\n",
    "bnvar = hprebn.var(0, keepdim=True, unbiased=True)\n",
    "bnvar_inv = (bnvar + 1e-5)**-0.5\n",
    "bnraw = (hprebn - bnmean) * bnvar_inv\n",
    "hpreact = bngain * bnraw + bnbias\n",
    "# -------------------------------------------------------------\n",
    "# Non-linearity\n",
    "h = torch.tanh(hpreact) # hidden layer\n",
    "logits = h @ W2 + b2 # output layer\n",
    "loss = F.cross_entropy(logits, Yb) # loss function "
   ]
  },
  {
   "cell_type": "code",
   "execution_count": 30,
   "metadata": {},
   "outputs": [
    {
     "name": "stdout",
     "output_type": "stream",
     "text": [
      "tensor(2.1725, grad_fn=<NllLossBackward0>)\n"
     ]
    }
   ],
   "source": [
    "print(loss)"
   ]
  },
  {
   "cell_type": "code",
   "execution_count": null,
   "metadata": {},
   "outputs": [],
   "source": []
  }
 ],
 "metadata": {
  "kernelspec": {
   "display_name": "makemore_env",
   "language": "python",
   "name": "python3"
  },
  "language_info": {
   "codemirror_mode": {
    "name": "ipython",
    "version": 3
   },
   "file_extension": ".py",
   "mimetype": "text/x-python",
   "name": "python",
   "nbconvert_exporter": "python",
   "pygments_lexer": "ipython3",
   "version": "3.9.19"
  }
 },
 "nbformat": 4,
 "nbformat_minor": 2
}
